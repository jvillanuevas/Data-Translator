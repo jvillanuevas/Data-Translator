{
  "nbformat": 4,
  "nbformat_minor": 0,
  "metadata": {
    "colab": {
      "provenance": [],
      "authorship_tag": "ABX9TyMuh74iS4AJQimgT1aTcV8o"
    },
    "kernelspec": {
      "name": "python3",
      "display_name": "Python 3"
    },
    "language_info": {
      "name": "python"
    }
  },
  "cells": [
    {
      "cell_type": "code",
      "execution_count": 11,
      "metadata": {
        "colab": {
          "base_uri": "https://localhost:8080/"
        },
        "id": "TjwCDC30pq49",
        "outputId": "912843ef-6eae-437a-a557-2a44f22073ce"
      },
      "outputs": [
        {
          "output_type": "stream",
          "name": "stdout",
          "text": [
            "Ingrese los colores delimitados por un guion (Ejemplo: marrón-rojonaranja-amarillo\n",
            "El valor de la resistencia con colores naranja-amarillo es: 34\n"
          ]
        }
      ],
      "source": [
        "def valor_resistencia(colores):\n",
        "    codificacion = {\n",
        "        'negro': 0,\n",
        "        'marrón': 1,\n",
        "        'rojo': 2,\n",
        "        'naranja': 3,\n",
        "        'amarillo': 4,\n",
        "        'verde': 5,\n",
        "        'azul': 6,\n",
        "        'púrpura': 7,\n",
        "        'gris': 8,\n",
        "        'blanco': 9\n",
        "    }\n",
        "\n",
        "    colores = colores.lower().split('-')\n",
        "\n",
        "    if len(colores) < 2:\n",
        "        return \"Debe proporcionar al menos dos colores separados por guiones.\"\n",
        "\n",
        "    valor = codificacion.get(colores[0], None)\n",
        "    if valor is None:\n",
        "        return f\"El color {colores[0]} no es válido.\"\n",
        "\n",
        "    valor = valor * 10 + codificacion.get(colores[1], None)\n",
        "    if valor is None:\n",
        "        return f\"El color {colores[1]} no es válido.\"\n",
        "\n",
        "    return valor\n",
        "\n",
        "# Ejemplo de uso:\n",
        "colores = str(input(\"Ingrese los colores delimitados por un guion (Ejemplo: marrón-rojo\"))\n",
        "resultado = valor_resistencia(colores)\n",
        "if isinstance(resultado, int):\n",
        "    print(f\"El valor de la resistencia con colores {colores} es: {resultado}\")\n",
        "else:\n",
        "    print(resultado)\n"
      ]
    }
  ]
}