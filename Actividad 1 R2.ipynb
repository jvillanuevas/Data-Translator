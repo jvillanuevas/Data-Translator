{
  "cells": [
    {
      "cell_type": "markdown",
      "metadata": {
        "tags": [],
        "id": "vn7udz_5Ln7s"
      },
      "source": [
        "# Pandas: Práctica"
      ]
    },
    {
      "cell_type": "markdown",
      "metadata": {
        "id": "nP-dp9SGLn7v"
      },
      "source": [
        "## Objetivos\n",
        "\n",
        "* Crear objetos de tipo `Series` y `DataFrame` a partir de datos de Python.\n",
        "* Crear objetos de tipo `DataFrame` a partir de archivos.\n",
        "* Indexar y cortar objetos con `pandas`.\n",
        "* Agregar datos en el `DataFrame`s.\n",
        "* Unir múltiples objetos de tipo `DataFrame`."
      ]
    },
    {
      "cell_type": "markdown",
      "metadata": {
        "id": "NafAXkVvLn7w"
      },
      "source": [
        "## ¿Qué es Pandas?\n",
        "\n",
        "Una biblioteca de Python que proporciona estructuras de datos y herramientas de análisis de datos para datos tabulares de muchos tipos. Piensa en un `DataFrame` como una tabla en SQL.\n",
        "\n",
        "Usaremos esto prácticamente todos los días de aquí en adelante. Así que asegúrate de completar la tarea, e incluso hacerla de nuevo si no te sientes cómodo."
      ]
    },
    {
      "cell_type": "markdown",
      "metadata": {
        "id": "DKH6xw4SLn7w"
      },
      "source": [
        "## Beneficios\n",
        "\n",
        "  * Almacenamiento y procesamiento eficiente de los datos.\n",
        "  * Incluye muchas funciones incorporadas para la transformación de datos, agregaciones y gráficos.\n",
        "  * Excelente para el trabajo exploratorio.\n",
        "\n",
        "## No tan buenas\n",
        "\n",
        "  * No se adapta muy bien a conjuntos de datos muy grandes.\n",
        "\n",
        "## Documentación:\n",
        "\n",
        "Documentación de pandas:\n",
        "\n",
        "  * http://pandas.pydata.org/pandas-docs/stable/index.html\n",
        "  \n",
        "  \n",
        "Cheatsheet de utilidad:\n",
        "\n",
        "  * https://pandas.pydata.org/Pandas_Cheat_Sheet.pdf\n",
        "\n",
        "\n",
        "Lectura extra:\n",
        "\n",
        "\n",
        "  * [Indexing and Selecting](https://pandas.pydata.org/pandas-docs/stable/indexing.html)\n",
        "  * [Advanced Indexing](http://pandas.pydata.org/pandas-docs/stable/advanced.html#advanced-mi-slicers)\n",
        "  * [Group-by](https://pandas.pydata.org/pandas-docs/stable/groupby.html)"
      ]
    },
    {
      "cell_type": "markdown",
      "metadata": {
        "tags": [],
        "id": "POms0hDjLn7x"
      },
      "source": [
        "## Imports"
      ]
    },
    {
      "cell_type": "code",
      "execution_count": 1,
      "metadata": {
        "id": "_HahxFrgLn7x"
      },
      "outputs": [],
      "source": [
        "%matplotlib inline\n",
        "\n",
        "import pandas as pd\n",
        "import numpy as np\n",
        "import matplotlib.pyplot as plt\n",
        "\n",
        "plt.style.use('ggplot')"
      ]
    },
    {
      "cell_type": "markdown",
      "metadata": {
        "id": "m09zvQTYLn7z"
      },
      "source": [
        "## Numpy"
      ]
    },
    {
      "cell_type": "markdown",
      "metadata": {
        "id": "CPYskBAdLn7z"
      },
      "source": [
        "`pandas` se construye a partir de los tipos de datos de `numpy` una biblioteca de nivel inferior.\n",
        "\n",
        "El objeto básico de `numpy` es un `array`."
      ]
    },
    {
      "cell_type": "code",
      "execution_count": 2,
      "metadata": {
        "id": "W9c8thpSLn7z",
        "outputId": "1754d9df-82bc-4d06-d846-cdd8e99d18b5",
        "colab": {
          "base_uri": "https://localhost:8080/"
        }
      },
      "outputs": [
        {
          "output_type": "execute_result",
          "data": {
            "text/plain": [
              "array([0, 1, 2, 3, 4, 5])"
            ]
          },
          "metadata": {},
          "execution_count": 2
        }
      ],
      "source": [
        "x = np.array([0, 1, 2, 3, 4, 5])\n",
        "x"
      ]
    },
    {
      "cell_type": "markdown",
      "metadata": {
        "id": "jzcsfi06Ln70"
      },
      "source": [
        "Los arrays cuentan con operaciones muy útiles."
      ]
    },
    {
      "cell_type": "code",
      "execution_count": 3,
      "metadata": {
        "id": "JYhxDveeLn70",
        "outputId": "e9f46409-8b58-4bec-e83e-fdaaa37ef314",
        "colab": {
          "base_uri": "https://localhost:8080/"
        }
      },
      "outputs": [
        {
          "output_type": "execute_result",
          "data": {
            "text/plain": [
              "15"
            ]
          },
          "metadata": {},
          "execution_count": 3
        }
      ],
      "source": [
        "x.sum()  # <-- Suma de números"
      ]
    },
    {
      "cell_type": "markdown",
      "metadata": {
        "id": "8hllJ1rJLn70"
      },
      "source": [
        "Los arrays pueden ser multidimensionales. Un array **bidimensional** es una matriz."
      ]
    },
    {
      "cell_type": "code",
      "execution_count": 4,
      "metadata": {
        "id": "fuPiTDQzLn70",
        "outputId": "cda559ac-181f-417a-9f2a-e43020323362",
        "colab": {
          "base_uri": "https://localhost:8080/"
        }
      },
      "outputs": [
        {
          "output_type": "execute_result",
          "data": {
            "text/plain": [
              "array([[0, 1, 2],\n",
              "       [1, 2, 3],\n",
              "       [2, 3, 4],\n",
              "       [5, 6, 7]])"
            ]
          },
          "metadata": {},
          "execution_count": 4
        }
      ],
      "source": [
        "M = np.array([\n",
        "    [0, 1, 2],\n",
        "    [1, 2, 3],\n",
        "    [2, 3, 4],\n",
        "    [5, 6, 7]\n",
        "])\n",
        "\n",
        "M"
      ]
    },
    {
      "cell_type": "code",
      "execution_count": 5,
      "metadata": {
        "id": "4JyCS5OkLn71",
        "outputId": "6cfaf7cc-3521-4443-8ebf-1ed0ecfd7868",
        "colab": {
          "base_uri": "https://localhost:8080/"
        }
      },
      "outputs": [
        {
          "output_type": "stream",
          "name": "stdout",
          "text": [
            "(6,)\n",
            "(4, 3)\n"
          ]
        }
      ],
      "source": [
        "print(x.shape)\n",
        "print(M.shape)"
      ]
    },
    {
      "cell_type": "markdown",
      "metadata": {
        "id": "i6fcFWQfLn71"
      },
      "source": [
        "## Serie"
      ]
    },
    {
      "cell_type": "code",
      "execution_count": 6,
      "metadata": {
        "id": "pYdpQi47Ln71",
        "outputId": "f572157d-8148-4bde-8cf2-d1a4a1f7e6ab",
        "colab": {
          "base_uri": "https://localhost:8080/"
        }
      },
      "outputs": [
        {
          "output_type": "execute_result",
          "data": {
            "text/plain": [
              "0    34\n",
              "1    35\n",
              "2    36\n",
              "3    37\n",
              "4    38\n",
              "dtype: int64"
            ]
          },
          "metadata": {},
          "execution_count": 6
        }
      ],
      "source": [
        "heights = np.array([34, 35, 36, 37, 38])\n",
        "student_heights = pd.Series(heights)\n",
        "student_heights"
      ]
    },
    {
      "cell_type": "markdown",
      "metadata": {
        "id": "LxRQI381Ln71"
      },
      "source": [
        "Para acceder al array debe ser a través de '.values'."
      ]
    },
    {
      "cell_type": "code",
      "execution_count": 7,
      "metadata": {
        "id": "4MJ7iCP6Ln71",
        "outputId": "d6895df6-9f9f-483d-f887-e4b54303621b",
        "colab": {
          "base_uri": "https://localhost:8080/"
        }
      },
      "outputs": [
        {
          "output_type": "execute_result",
          "data": {
            "text/plain": [
              "array([34, 35, 36, 37, 38])"
            ]
          },
          "metadata": {},
          "execution_count": 7
        }
      ],
      "source": [
        "student_heights.values"
      ]
    },
    {
      "cell_type": "markdown",
      "metadata": {
        "id": "rj_FEFRZLn72"
      },
      "source": [
        "Losnúmeros '0,1,2,3,4' son el índice por defecto.\n",
        "\n",
        "Se puede acceder al índice a través de '.index'"
      ]
    },
    {
      "cell_type": "code",
      "execution_count": 8,
      "metadata": {
        "id": "m7B-O35XLn72",
        "outputId": "27b11e58-bf22-4e78-a334-80d4a0e3850c",
        "colab": {
          "base_uri": "https://localhost:8080/"
        }
      },
      "outputs": [
        {
          "output_type": "execute_result",
          "data": {
            "text/plain": [
              "RangeIndex(start=0, stop=5, step=1)"
            ]
          },
          "metadata": {},
          "execution_count": 8
        }
      ],
      "source": [
        "student_heights.index"
      ]
    },
    {
      "cell_type": "markdown",
      "metadata": {
        "id": "KtrNJEr4Ln72"
      },
      "source": [
        "El índice es un [iterable](https://www.programiz.com/python-programming/iterator)."
      ]
    },
    {
      "cell_type": "code",
      "execution_count": 9,
      "metadata": {
        "id": "aHIHOJXKLn72",
        "outputId": "bc9f495f-cc71-448b-a466-35d02446bfed",
        "colab": {
          "base_uri": "https://localhost:8080/"
        }
      },
      "outputs": [
        {
          "output_type": "execute_result",
          "data": {
            "text/plain": [
              "pandas.core.indexes.range.RangeIndex"
            ]
          },
          "metadata": {},
          "execution_count": 9
        }
      ],
      "source": [
        "type(student_heights.index)"
      ]
    },
    {
      "cell_type": "code",
      "execution_count": 10,
      "metadata": {
        "id": "PfK80entLn72",
        "outputId": "8971fc83-d119-4ef4-ec46-facf8afdad50",
        "colab": {
          "base_uri": "https://localhost:8080/"
        }
      },
      "outputs": [
        {
          "output_type": "execute_result",
          "data": {
            "text/plain": [
              "[0, 1, 2, 3, 4]"
            ]
          },
          "metadata": {},
          "execution_count": 10
        }
      ],
      "source": [
        "list(student_heights.index)"
      ]
    },
    {
      "cell_type": "markdown",
      "metadata": {
        "id": "btCnppdDLn73"
      },
      "source": [
        "Es posible cambiar el índice manualmente"
      ]
    },
    {
      "cell_type": "code",
      "execution_count": 12,
      "metadata": {
        "id": "7a8qW0ngLn73"
      },
      "outputs": [],
      "source": [
        "student_heights.index = [\"Tomas\", \"Angel\", \"Stacy\", \"Michaela\", \"Haden\"]"
      ]
    },
    {
      "cell_type": "code",
      "execution_count": 13,
      "metadata": {
        "id": "VchlPVTZLn73",
        "outputId": "f95196f2-f4b1-403d-ad5f-73dbfff4822f",
        "colab": {
          "base_uri": "https://localhost:8080/"
        }
      },
      "outputs": [
        {
          "output_type": "execute_result",
          "data": {
            "text/plain": [
              "Tomas       34\n",
              "Angel       35\n",
              "Stacy       36\n",
              "Michaela    37\n",
              "Haden       38\n",
              "dtype: int64"
            ]
          },
          "metadata": {},
          "execution_count": 13
        }
      ],
      "source": [
        "student_heights"
      ]
    },
    {
      "cell_type": "markdown",
      "metadata": {
        "id": "NdyDhj6FLn73"
      },
      "source": [
        "Ahora es posible utilizar palabras para acceder a los ítems de la Serie."
      ]
    },
    {
      "cell_type": "code",
      "execution_count": 14,
      "metadata": {
        "id": "8FBSZxLULn73",
        "outputId": "6e16211a-dcce-4a03-b7ac-05878bbe25c8",
        "colab": {
          "base_uri": "https://localhost:8080/"
        }
      },
      "outputs": [
        {
          "output_type": "execute_result",
          "data": {
            "text/plain": [
              "37"
            ]
          },
          "metadata": {},
          "execution_count": 14
        }
      ],
      "source": [
        "student_heights['Michaela']"
      ]
    },
    {
      "cell_type": "markdown",
      "metadata": {
        "id": "ALzxS32-Ln74"
      },
      "source": [
        "También se puede acceder a un ítem por su orden."
      ]
    },
    {
      "cell_type": "code",
      "execution_count": 15,
      "metadata": {
        "id": "_0GvEri2Ln74",
        "outputId": "c62cf58a-4255-482c-9862-c5bbcd9d28ee",
        "colab": {
          "base_uri": "https://localhost:8080/"
        }
      },
      "outputs": [
        {
          "output_type": "execute_result",
          "data": {
            "text/plain": [
              "36"
            ]
          },
          "metadata": {},
          "execution_count": 15
        }
      ],
      "source": [
        "student_heights[2]"
      ]
    },
    {
      "cell_type": "markdown",
      "metadata": {
        "id": "ziZmgvfTLn74"
      },
      "source": [
        "Utilizar métodos de numpy."
      ]
    },
    {
      "cell_type": "code",
      "execution_count": 16,
      "metadata": {
        "id": "sqAirNEBLn74",
        "outputId": "28c15fb8-c15e-4906-9ad3-fc7c2b42b8f0",
        "colab": {
          "base_uri": "https://localhost:8080/"
        }
      },
      "outputs": [
        {
          "output_type": "execute_result",
          "data": {
            "text/plain": [
              "36.0"
            ]
          },
          "metadata": {},
          "execution_count": 16
        }
      ],
      "source": [
        "student_heights.mean()"
      ]
    },
    {
      "cell_type": "markdown",
      "metadata": {
        "id": "WFGtXrPALn74"
      },
      "source": [
        "Se pueden ver los parámetros de una función escribiendo\n",
        "```python\n",
        "pd.Series()\n",
        "```\n",
        "colocando el cursor dentro del paréntesis y presionando 'shift+tab'."
      ]
    },
    {
      "cell_type": "code",
      "execution_count": 18,
      "metadata": {
        "id": "1xnGaiDtLn74",
        "outputId": "b10fc6cb-33f2-4aa9-c75f-3cd2eb411f7d",
        "colab": {
          "base_uri": "https://localhost:8080/"
        }
      },
      "outputs": [
        {
          "output_type": "stream",
          "name": "stderr",
          "text": [
            "<ipython-input-18-a53c31b6a8d6>:1: FutureWarning: The default dtype for empty Series will be 'object' instead of 'float64' in a future version. Specify a dtype explicitly to silence this warning.\n",
            "  pd.Series()\n"
          ]
        },
        {
          "output_type": "execute_result",
          "data": {
            "text/plain": [
              "Series([], dtype: float64)"
            ]
          },
          "metadata": {},
          "execution_count": 18
        }
      ],
      "source": [
        "pd.Series()\n",
        "\n"
      ]
    },
    {
      "cell_type": "markdown",
      "metadata": {
        "id": "j5B71c40Ln74"
      },
      "source": [
        "### 1.- Cuáles son los parámetros de pd.Series()?"
      ]
    },
    {
      "cell_type": "code",
      "execution_count": 19,
      "metadata": {
        "id": "MTduz1fjLn75",
        "outputId": "f1cc498b-2947-4836-c4fd-cd7114549dc1",
        "colab": {
          "base_uri": "https://localhost:8080/"
        }
      },
      "outputs": [
        {
          "output_type": "stream",
          "name": "stderr",
          "text": [
            "<ipython-input-19-fa15c544da3b>:1: FutureWarning: The default dtype for empty Series will be 'object' instead of 'float64' in a future version. Specify a dtype explicitly to silence this warning.\n",
            "  pd.Series()\n"
          ]
        },
        {
          "output_type": "execute_result",
          "data": {
            "text/plain": [
              "Series([], dtype: float64)"
            ]
          },
          "metadata": {},
          "execution_count": 19
        }
      ],
      "source": [
        "pd.Series()\n"
      ]
    },
    {
      "cell_type": "markdown",
      "metadata": {
        "id": "WkRLLwssLn75"
      },
      "source": [
        "> POR FAVOR, NUNCA JAMÁS COPIE Y PEGUE MIENTRAS HACE ESTAS PREGUNTAS. No aprenderás a codificar de memoria. Y en tres semanas te darás cuenta de que no lo sabes. Lo hemos visto una y otra vez. Vale la pena. Abre una segunda ventana si necesitas copiar código.\n",
        "\n",
        "> Para las variables que has definido o cargado utiliza el 'tabulador'. Por ejemplo:\n",
        ">\n",
        ">\n",
        "> Abajo escribe 'bra' + tabulador y observa cómo se rellena el resto. Puede ser difícil de recordar, pero realmente ayuda.\n",
        "\n",
        "\n",
        "## 2.- Hacer una serie 'brag_vow' con índice 'i am a numpy champ'. And values 'So Pandas here I come\".\n",
        "\n",
        "```python\n",
        "\n",
        "print(brag_vow)\n",
        "\n",
        "I            So\n",
        "am       Pandas\n",
        "a          here\n",
        "numpy         I\n",
        "champ      come\n",
        "dtype: object\n",
        "```"
      ]
    },
    {
      "cell_type": "code",
      "execution_count": 20,
      "metadata": {
        "id": "pgI1faSGLn75",
        "outputId": "d9b805aa-6b27-41b9-a928-78899edddb43",
        "colab": {
          "base_uri": "https://localhost:8080/"
        }
      },
      "outputs": [
        {
          "output_type": "stream",
          "name": "stdout",
          "text": [
            "i            So\n",
            "am       Pandas\n",
            "a          here\n",
            "numpy         I\n",
            "champ      come\n",
            "dtype: object\n"
          ]
        }
      ],
      "source": [
        "\n",
        "data = {'i': 'So', 'am': 'Pandas', 'a': 'here', 'numpy': 'I', 'champ': 'come'}\n",
        "brag_vow = pd.Series(data)\n",
        "\n",
        "print(brag_vow)\n",
        "\n"
      ]
    },
    {
      "cell_type": "markdown",
      "metadata": {
        "id": "zIDVVQS0Ln75"
      },
      "source": [
        "### 3.- Imprimir los últimos tres elementos de 'brag_vow'\n",
        "\n",
        "```python\n",
        "a          here\n",
        "numpy         I\n",
        "champ      come\n",
        "dtype: object\n",
        "```"
      ]
    },
    {
      "cell_type": "code",
      "execution_count": 21,
      "metadata": {
        "id": "rkkld34HLn76",
        "outputId": "c4233e04-a879-4835-fe8e-85520efe8f46",
        "colab": {
          "base_uri": "https://localhost:8080/"
        }
      },
      "outputs": [
        {
          "output_type": "stream",
          "name": "stdout",
          "text": [
            "a        here\n",
            "numpy       I\n",
            "champ    come\n",
            "dtype: object\n"
          ]
        }
      ],
      "source": [
        "print(brag_vow.tail(3))\n",
        "\n",
        "\n"
      ]
    },
    {
      "cell_type": "markdown",
      "metadata": {
        "id": "3As1ZWrgLn76"
      },
      "source": [
        "### 4.- Imprimir los elementos relacionados al index 'I a champ' (No utilizar índice numérico)\n",
        "\n",
        "```python\n",
        "I          So\n",
        "a        here\n",
        "champ    come\n",
        "dtype: object\n",
        "```"
      ]
    },
    {
      "cell_type": "code",
      "execution_count": 23,
      "metadata": {
        "id": "tHD_CpLvLn76",
        "outputId": "420a64d5-3317-424f-f777-036c378fcd32",
        "colab": {
          "base_uri": "https://localhost:8080/"
        }
      },
      "outputs": [
        {
          "output_type": "stream",
          "name": "stdout",
          "text": [
            "i          So\n",
            "a        here\n",
            "champ    come\n",
            "dtype: object\n"
          ]
        }
      ],
      "source": [
        "print(brag_vow.loc[['i', 'a', 'champ']])\n",
        "\n"
      ]
    },
    {
      "cell_type": "markdown",
      "metadata": {
        "id": "qE4JncRkLn76"
      },
      "source": [
        "### 5.- De \"student_heights\", imprimir los estudiantes cuya estatura es un numero par por medio de un índice booleano.\n",
        "\n",
        "```python\n",
        "Tomas    34\n",
        "Stacy    36\n",
        "Haden    38\n",
        "dtype: int64\n",
        "```"
      ]
    },
    {
      "cell_type": "code",
      "execution_count": 24,
      "metadata": {
        "id": "VHi_QjsyLn76",
        "outputId": "f767a879-bd1b-4cc1-9fcb-106def5428a9",
        "colab": {
          "base_uri": "https://localhost:8080/"
        }
      },
      "outputs": [
        {
          "output_type": "stream",
          "name": "stdout",
          "text": [
            "Tomas    34\n",
            "Stacy    36\n",
            "Haden    38\n",
            "dtype: int64\n"
          ]
        }
      ],
      "source": [
        "import pandas as pd\n",
        "\n",
        "data = {'Tomas': 34, 'Stacy': 36, 'Haden': 38}\n",
        "student_heights = pd.Series(data)\n",
        "\n",
        "# Crear una serie booleana que indique si la estatura es par\n",
        "es_par = student_heights % 2 == 0\n",
        "\n",
        "# Usar la serie booleana para filtrar los estudiantes con estaturas pares\n",
        "estudiantes_estatura_par = student_heights[es_par]\n",
        "\n",
        "print(estudiantes_estatura_par)\n",
        "\n",
        "\n"
      ]
    },
    {
      "cell_type": "markdown",
      "metadata": {
        "id": "M3IQxTAsLn76"
      },
      "source": [
        "### 6.- Imprimir los valores de brag_vow:\n",
        "\n",
        "```python\n",
        "array(['So', 'Pandas', 'here', 'I', 'come'], dtype=object)\n",
        "```"
      ]
    },
    {
      "cell_type": "code",
      "execution_count": 25,
      "metadata": {
        "id": "fKLUGe__Ln77",
        "outputId": "3cd70444-943a-4536-a639-fe67190c2dd9",
        "colab": {
          "base_uri": "https://localhost:8080/"
        }
      },
      "outputs": [
        {
          "output_type": "stream",
          "name": "stdout",
          "text": [
            "['So' 'Pandas' 'here' 'I' 'come']\n"
          ]
        }
      ],
      "source": [
        "\n",
        "\n",
        "data = {'i': 'So', 'am': 'Pandas', 'a': 'here', 'numpy': 'I', 'champ': 'come'}\n",
        "brag_vow = pd.Series(data)\n",
        "\n",
        "valores = brag_vow.values\n",
        "print(valores)\n",
        "\n",
        "\n"
      ]
    },
    {
      "cell_type": "markdown",
      "metadata": {
        "id": "qH-B6BHLLn77"
      },
      "source": [
        "### 7.- Imprimir el index de brag_vow:\n",
        "\n",
        "```python\n",
        "Index(['I', 'am', 'a', 'numpy', 'champ'], dtype='object')\n",
        "```"
      ]
    },
    {
      "cell_type": "code",
      "execution_count": 26,
      "metadata": {
        "id": "Pb5GGiqbLn77",
        "outputId": "372d0f61-d331-4a1e-e981-a51ef6c83f52",
        "colab": {
          "base_uri": "https://localhost:8080/"
        }
      },
      "outputs": [
        {
          "output_type": "stream",
          "name": "stdout",
          "text": [
            "Index(['i', 'am', 'a', 'numpy', 'champ'], dtype='object')\n"
          ]
        }
      ],
      "source": [
        "data = {'i': 'So', 'am': 'Pandas', 'a': 'here', 'numpy': 'I', 'champ': 'come'}\n",
        "brag_vow = pd.Series(data)\n",
        "\n",
        "indice = brag_vow.index\n",
        "print(indice)\n",
        "\n"
      ]
    },
    {
      "cell_type": "markdown",
      "metadata": {
        "id": "FxIaeqdLLn77"
      },
      "source": [
        "# Nombre de una Serie"
      ]
    },
    {
      "cell_type": "markdown",
      "metadata": {
        "id": "vBUNL4ruLn77"
      },
      "source": [
        "Las Series pueden tener un nombre"
      ]
    },
    {
      "cell_type": "code",
      "execution_count": 28,
      "metadata": {
        "id": "Ho8VPe7LLn77"
      },
      "outputs": [],
      "source": [
        "student_grades = pd.Series([45,56,78,89,90],\n",
        "                           index=['Tomas', 'Angel', 'Stacy', 'Michaela', 'Haden'],\n",
        "                           name='grades')"
      ]
    },
    {
      "cell_type": "code",
      "execution_count": 29,
      "metadata": {
        "id": "0L0N74B4Ln77",
        "outputId": "bc1789ef-b7b2-48c7-a6e5-6e24a4d5d970",
        "colab": {
          "base_uri": "https://localhost:8080/"
        }
      },
      "outputs": [
        {
          "output_type": "execute_result",
          "data": {
            "text/plain": [
              "Tomas       45\n",
              "Angel       56\n",
              "Stacy       78\n",
              "Michaela    89\n",
              "Haden       90\n",
              "Name: grades, dtype: int64"
            ]
          },
          "metadata": {},
          "execution_count": 29
        }
      ],
      "source": [
        "student_grades"
      ]
    },
    {
      "cell_type": "markdown",
      "metadata": {
        "id": "CDb_Dx3MLn77"
      },
      "source": [
        "Observe el Name:"
      ]
    },
    {
      "cell_type": "markdown",
      "metadata": {
        "id": "oZbBigwCLn77"
      },
      "source": [
        "### Crear Dataframes a partir de objetos"
      ]
    },
    {
      "cell_type": "markdown",
      "metadata": {
        "id": "IwG716m7Ln78"
      },
      "source": [
        "Tenemos dos series: student_heights y student_grades. Cada una tiene los mismos estudiantes en el índice. ¿No sería genial si pudiéramos acceder a todos los datos de los estudiantes a la vez?\n",
        "\n",
        "Para ello, utilizaremos un dataframe."
      ]
    },
    {
      "cell_type": "code",
      "execution_count": 30,
      "metadata": {
        "id": "e8YmdOsdLn78",
        "outputId": "7b53b4d2-5d1f-4d57-aa3e-af3e58fababe",
        "colab": {
          "base_uri": "https://localhost:8080/",
          "height": 206
        }
      },
      "outputs": [
        {
          "output_type": "execute_result",
          "data": {
            "text/plain": [
              "          grade  height\n",
              "Angel        56     NaN\n",
              "Haden        90    38.0\n",
              "Michaela     89     NaN\n",
              "Stacy        78    36.0\n",
              "Tomas        45    34.0"
            ],
            "text/html": [
              "\n",
              "  <div id=\"df-a4b63de0-77b2-4b4f-a928-a326fcb4ca71\" class=\"colab-df-container\">\n",
              "    <div>\n",
              "<style scoped>\n",
              "    .dataframe tbody tr th:only-of-type {\n",
              "        vertical-align: middle;\n",
              "    }\n",
              "\n",
              "    .dataframe tbody tr th {\n",
              "        vertical-align: top;\n",
              "    }\n",
              "\n",
              "    .dataframe thead th {\n",
              "        text-align: right;\n",
              "    }\n",
              "</style>\n",
              "<table border=\"1\" class=\"dataframe\">\n",
              "  <thead>\n",
              "    <tr style=\"text-align: right;\">\n",
              "      <th></th>\n",
              "      <th>grade</th>\n",
              "      <th>height</th>\n",
              "    </tr>\n",
              "  </thead>\n",
              "  <tbody>\n",
              "    <tr>\n",
              "      <th>Angel</th>\n",
              "      <td>56</td>\n",
              "      <td>NaN</td>\n",
              "    </tr>\n",
              "    <tr>\n",
              "      <th>Haden</th>\n",
              "      <td>90</td>\n",
              "      <td>38.0</td>\n",
              "    </tr>\n",
              "    <tr>\n",
              "      <th>Michaela</th>\n",
              "      <td>89</td>\n",
              "      <td>NaN</td>\n",
              "    </tr>\n",
              "    <tr>\n",
              "      <th>Stacy</th>\n",
              "      <td>78</td>\n",
              "      <td>36.0</td>\n",
              "    </tr>\n",
              "    <tr>\n",
              "      <th>Tomas</th>\n",
              "      <td>45</td>\n",
              "      <td>34.0</td>\n",
              "    </tr>\n",
              "  </tbody>\n",
              "</table>\n",
              "</div>\n",
              "    <div class=\"colab-df-buttons\">\n",
              "\n",
              "  <div class=\"colab-df-container\">\n",
              "    <button class=\"colab-df-convert\" onclick=\"convertToInteractive('df-a4b63de0-77b2-4b4f-a928-a326fcb4ca71')\"\n",
              "            title=\"Convert this dataframe to an interactive table.\"\n",
              "            style=\"display:none;\">\n",
              "\n",
              "  <svg xmlns=\"http://www.w3.org/2000/svg\" height=\"24px\" viewBox=\"0 -960 960 960\">\n",
              "    <path d=\"M120-120v-720h720v720H120Zm60-500h600v-160H180v160Zm220 220h160v-160H400v160Zm0 220h160v-160H400v160ZM180-400h160v-160H180v160Zm440 0h160v-160H620v160ZM180-180h160v-160H180v160Zm440 0h160v-160H620v160Z\"/>\n",
              "  </svg>\n",
              "    </button>\n",
              "\n",
              "  <style>\n",
              "    .colab-df-container {\n",
              "      display:flex;\n",
              "      gap: 12px;\n",
              "    }\n",
              "\n",
              "    .colab-df-convert {\n",
              "      background-color: #E8F0FE;\n",
              "      border: none;\n",
              "      border-radius: 50%;\n",
              "      cursor: pointer;\n",
              "      display: none;\n",
              "      fill: #1967D2;\n",
              "      height: 32px;\n",
              "      padding: 0 0 0 0;\n",
              "      width: 32px;\n",
              "    }\n",
              "\n",
              "    .colab-df-convert:hover {\n",
              "      background-color: #E2EBFA;\n",
              "      box-shadow: 0px 1px 2px rgba(60, 64, 67, 0.3), 0px 1px 3px 1px rgba(60, 64, 67, 0.15);\n",
              "      fill: #174EA6;\n",
              "    }\n",
              "\n",
              "    .colab-df-buttons div {\n",
              "      margin-bottom: 4px;\n",
              "    }\n",
              "\n",
              "    [theme=dark] .colab-df-convert {\n",
              "      background-color: #3B4455;\n",
              "      fill: #D2E3FC;\n",
              "    }\n",
              "\n",
              "    [theme=dark] .colab-df-convert:hover {\n",
              "      background-color: #434B5C;\n",
              "      box-shadow: 0px 1px 3px 1px rgba(0, 0, 0, 0.15);\n",
              "      filter: drop-shadow(0px 1px 2px rgba(0, 0, 0, 0.3));\n",
              "      fill: #FFFFFF;\n",
              "    }\n",
              "  </style>\n",
              "\n",
              "    <script>\n",
              "      const buttonEl =\n",
              "        document.querySelector('#df-a4b63de0-77b2-4b4f-a928-a326fcb4ca71 button.colab-df-convert');\n",
              "      buttonEl.style.display =\n",
              "        google.colab.kernel.accessAllowed ? 'block' : 'none';\n",
              "\n",
              "      async function convertToInteractive(key) {\n",
              "        const element = document.querySelector('#df-a4b63de0-77b2-4b4f-a928-a326fcb4ca71');\n",
              "        const dataTable =\n",
              "          await google.colab.kernel.invokeFunction('convertToInteractive',\n",
              "                                                    [key], {});\n",
              "        if (!dataTable) return;\n",
              "\n",
              "        const docLinkHtml = 'Like what you see? Visit the ' +\n",
              "          '<a target=\"_blank\" href=https://colab.research.google.com/notebooks/data_table.ipynb>data table notebook</a>'\n",
              "          + ' to learn more about interactive tables.';\n",
              "        element.innerHTML = '';\n",
              "        dataTable['output_type'] = 'display_data';\n",
              "        await google.colab.output.renderOutput(dataTable, element);\n",
              "        const docLink = document.createElement('div');\n",
              "        docLink.innerHTML = docLinkHtml;\n",
              "        element.appendChild(docLink);\n",
              "      }\n",
              "    </script>\n",
              "  </div>\n",
              "\n",
              "\n",
              "<div id=\"df-926c72e5-fb6e-42ea-aad3-5939069fc92b\">\n",
              "  <button class=\"colab-df-quickchart\" onclick=\"quickchart('df-926c72e5-fb6e-42ea-aad3-5939069fc92b')\"\n",
              "            title=\"Suggest charts.\"\n",
              "            style=\"display:none;\">\n",
              "\n",
              "<svg xmlns=\"http://www.w3.org/2000/svg\" height=\"24px\"viewBox=\"0 0 24 24\"\n",
              "     width=\"24px\">\n",
              "    <g>\n",
              "        <path d=\"M19 3H5c-1.1 0-2 .9-2 2v14c0 1.1.9 2 2 2h14c1.1 0 2-.9 2-2V5c0-1.1-.9-2-2-2zM9 17H7v-7h2v7zm4 0h-2V7h2v10zm4 0h-2v-4h2v4z\"/>\n",
              "    </g>\n",
              "</svg>\n",
              "  </button>\n",
              "\n",
              "<style>\n",
              "  .colab-df-quickchart {\n",
              "      --bg-color: #E8F0FE;\n",
              "      --fill-color: #1967D2;\n",
              "      --hover-bg-color: #E2EBFA;\n",
              "      --hover-fill-color: #174EA6;\n",
              "      --disabled-fill-color: #AAA;\n",
              "      --disabled-bg-color: #DDD;\n",
              "  }\n",
              "\n",
              "  [theme=dark] .colab-df-quickchart {\n",
              "      --bg-color: #3B4455;\n",
              "      --fill-color: #D2E3FC;\n",
              "      --hover-bg-color: #434B5C;\n",
              "      --hover-fill-color: #FFFFFF;\n",
              "      --disabled-bg-color: #3B4455;\n",
              "      --disabled-fill-color: #666;\n",
              "  }\n",
              "\n",
              "  .colab-df-quickchart {\n",
              "    background-color: var(--bg-color);\n",
              "    border: none;\n",
              "    border-radius: 50%;\n",
              "    cursor: pointer;\n",
              "    display: none;\n",
              "    fill: var(--fill-color);\n",
              "    height: 32px;\n",
              "    padding: 0;\n",
              "    width: 32px;\n",
              "  }\n",
              "\n",
              "  .colab-df-quickchart:hover {\n",
              "    background-color: var(--hover-bg-color);\n",
              "    box-shadow: 0 1px 2px rgba(60, 64, 67, 0.3), 0 1px 3px 1px rgba(60, 64, 67, 0.15);\n",
              "    fill: var(--button-hover-fill-color);\n",
              "  }\n",
              "\n",
              "  .colab-df-quickchart-complete:disabled,\n",
              "  .colab-df-quickchart-complete:disabled:hover {\n",
              "    background-color: var(--disabled-bg-color);\n",
              "    fill: var(--disabled-fill-color);\n",
              "    box-shadow: none;\n",
              "  }\n",
              "\n",
              "  .colab-df-spinner {\n",
              "    border: 2px solid var(--fill-color);\n",
              "    border-color: transparent;\n",
              "    border-bottom-color: var(--fill-color);\n",
              "    animation:\n",
              "      spin 1s steps(1) infinite;\n",
              "  }\n",
              "\n",
              "  @keyframes spin {\n",
              "    0% {\n",
              "      border-color: transparent;\n",
              "      border-bottom-color: var(--fill-color);\n",
              "      border-left-color: var(--fill-color);\n",
              "    }\n",
              "    20% {\n",
              "      border-color: transparent;\n",
              "      border-left-color: var(--fill-color);\n",
              "      border-top-color: var(--fill-color);\n",
              "    }\n",
              "    30% {\n",
              "      border-color: transparent;\n",
              "      border-left-color: var(--fill-color);\n",
              "      border-top-color: var(--fill-color);\n",
              "      border-right-color: var(--fill-color);\n",
              "    }\n",
              "    40% {\n",
              "      border-color: transparent;\n",
              "      border-right-color: var(--fill-color);\n",
              "      border-top-color: var(--fill-color);\n",
              "    }\n",
              "    60% {\n",
              "      border-color: transparent;\n",
              "      border-right-color: var(--fill-color);\n",
              "    }\n",
              "    80% {\n",
              "      border-color: transparent;\n",
              "      border-right-color: var(--fill-color);\n",
              "      border-bottom-color: var(--fill-color);\n",
              "    }\n",
              "    90% {\n",
              "      border-color: transparent;\n",
              "      border-bottom-color: var(--fill-color);\n",
              "    }\n",
              "  }\n",
              "</style>\n",
              "\n",
              "  <script>\n",
              "    async function quickchart(key) {\n",
              "      const quickchartButtonEl =\n",
              "        document.querySelector('#' + key + ' button');\n",
              "      quickchartButtonEl.disabled = true;  // To prevent multiple clicks.\n",
              "      quickchartButtonEl.classList.add('colab-df-spinner');\n",
              "      try {\n",
              "        const charts = await google.colab.kernel.invokeFunction(\n",
              "            'suggestCharts', [key], {});\n",
              "      } catch (error) {\n",
              "        console.error('Error during call to suggestCharts:', error);\n",
              "      }\n",
              "      quickchartButtonEl.classList.remove('colab-df-spinner');\n",
              "      quickchartButtonEl.classList.add('colab-df-quickchart-complete');\n",
              "    }\n",
              "    (() => {\n",
              "      let quickchartButtonEl =\n",
              "        document.querySelector('#df-926c72e5-fb6e-42ea-aad3-5939069fc92b button');\n",
              "      quickchartButtonEl.style.display =\n",
              "        google.colab.kernel.accessAllowed ? 'block' : 'none';\n",
              "    })();\n",
              "  </script>\n",
              "</div>\n",
              "    </div>\n",
              "  </div>\n"
            ]
          },
          "metadata": {},
          "execution_count": 30
        }
      ],
      "source": [
        "students = pd.DataFrame({'grade':student_grades, 'height':student_heights})\n",
        "students"
      ]
    },
    {
      "cell_type": "markdown",
      "metadata": {
        "id": "P_mjWQ_nLn78"
      },
      "source": [
        "Hay al menos dos maneras de pensar en un dataframe.\n",
        "\n",
        "Una es como una serie múltiple con índice coincidente. La otra es como un array de numpy con columnas y filas explícitamente etiquetadas.\n",
        "\n",
        "La verdad es que un dataframe es AMBAS."
      ]
    },
    {
      "cell_type": "code",
      "execution_count": 31,
      "metadata": {
        "id": "gClZhyOhLn78",
        "outputId": "605de6ac-18ee-457e-a53b-b71c12ee502c",
        "colab": {
          "base_uri": "https://localhost:8080/"
        }
      },
      "outputs": [
        {
          "output_type": "execute_result",
          "data": {
            "text/plain": [
              "array([[56., nan],\n",
              "       [90., 38.],\n",
              "       [89., nan],\n",
              "       [78., 36.],\n",
              "       [45., 34.]])"
            ]
          },
          "metadata": {},
          "execution_count": 31
        }
      ],
      "source": [
        "# numpy array:\n",
        "students.values"
      ]
    },
    {
      "cell_type": "code",
      "execution_count": 32,
      "metadata": {
        "id": "LQR-7q_jLn78",
        "outputId": "4c513ea5-4ffe-4196-a5ca-38690f0d9c78",
        "colab": {
          "base_uri": "https://localhost:8080/"
        }
      },
      "outputs": [
        {
          "output_type": "execute_result",
          "data": {
            "text/plain": [
              "Angel       56\n",
              "Haden       90\n",
              "Michaela    89\n",
              "Stacy       78\n",
              "Tomas       45\n",
              "Name: grade, dtype: int64"
            ]
          },
          "metadata": {},
          "execution_count": 32
        }
      ],
      "source": [
        "# pandas series:\n",
        "students['grade']"
      ]
    },
    {
      "cell_type": "markdown",
      "metadata": {
        "id": "EWusQXhVLn78"
      },
      "source": [
        "También podemos crear DataFrames a partir de arrays de numpy o listas con etiquetas e índices proporcionados. El parámetro `columns=` especifica los nombres de las columnas; el `index=` especifica los nombres de las filas."
      ]
    },
    {
      "cell_type": "code",
      "execution_count": 33,
      "metadata": {
        "scrolled": true,
        "id": "wqBkchiQLn78",
        "outputId": "b115e283-2134-44a4-ef9b-42c84642d527",
        "colab": {
          "base_uri": "https://localhost:8080/",
          "height": 112
        }
      },
      "outputs": [
        {
          "output_type": "execute_result",
          "data": {
            "text/plain": [
              "     a  b  c\n",
              "foo  1  2  3\n",
              "bar  4  5  6"
            ],
            "text/html": [
              "\n",
              "  <div id=\"df-39c7d13d-c668-4254-8c60-04300926ba99\" class=\"colab-df-container\">\n",
              "    <div>\n",
              "<style scoped>\n",
              "    .dataframe tbody tr th:only-of-type {\n",
              "        vertical-align: middle;\n",
              "    }\n",
              "\n",
              "    .dataframe tbody tr th {\n",
              "        vertical-align: top;\n",
              "    }\n",
              "\n",
              "    .dataframe thead th {\n",
              "        text-align: right;\n",
              "    }\n",
              "</style>\n",
              "<table border=\"1\" class=\"dataframe\">\n",
              "  <thead>\n",
              "    <tr style=\"text-align: right;\">\n",
              "      <th></th>\n",
              "      <th>a</th>\n",
              "      <th>b</th>\n",
              "      <th>c</th>\n",
              "    </tr>\n",
              "  </thead>\n",
              "  <tbody>\n",
              "    <tr>\n",
              "      <th>foo</th>\n",
              "      <td>1</td>\n",
              "      <td>2</td>\n",
              "      <td>3</td>\n",
              "    </tr>\n",
              "    <tr>\n",
              "      <th>bar</th>\n",
              "      <td>4</td>\n",
              "      <td>5</td>\n",
              "      <td>6</td>\n",
              "    </tr>\n",
              "  </tbody>\n",
              "</table>\n",
              "</div>\n",
              "    <div class=\"colab-df-buttons\">\n",
              "\n",
              "  <div class=\"colab-df-container\">\n",
              "    <button class=\"colab-df-convert\" onclick=\"convertToInteractive('df-39c7d13d-c668-4254-8c60-04300926ba99')\"\n",
              "            title=\"Convert this dataframe to an interactive table.\"\n",
              "            style=\"display:none;\">\n",
              "\n",
              "  <svg xmlns=\"http://www.w3.org/2000/svg\" height=\"24px\" viewBox=\"0 -960 960 960\">\n",
              "    <path d=\"M120-120v-720h720v720H120Zm60-500h600v-160H180v160Zm220 220h160v-160H400v160Zm0 220h160v-160H400v160ZM180-400h160v-160H180v160Zm440 0h160v-160H620v160ZM180-180h160v-160H180v160Zm440 0h160v-160H620v160Z\"/>\n",
              "  </svg>\n",
              "    </button>\n",
              "\n",
              "  <style>\n",
              "    .colab-df-container {\n",
              "      display:flex;\n",
              "      gap: 12px;\n",
              "    }\n",
              "\n",
              "    .colab-df-convert {\n",
              "      background-color: #E8F0FE;\n",
              "      border: none;\n",
              "      border-radius: 50%;\n",
              "      cursor: pointer;\n",
              "      display: none;\n",
              "      fill: #1967D2;\n",
              "      height: 32px;\n",
              "      padding: 0 0 0 0;\n",
              "      width: 32px;\n",
              "    }\n",
              "\n",
              "    .colab-df-convert:hover {\n",
              "      background-color: #E2EBFA;\n",
              "      box-shadow: 0px 1px 2px rgba(60, 64, 67, 0.3), 0px 1px 3px 1px rgba(60, 64, 67, 0.15);\n",
              "      fill: #174EA6;\n",
              "    }\n",
              "\n",
              "    .colab-df-buttons div {\n",
              "      margin-bottom: 4px;\n",
              "    }\n",
              "\n",
              "    [theme=dark] .colab-df-convert {\n",
              "      background-color: #3B4455;\n",
              "      fill: #D2E3FC;\n",
              "    }\n",
              "\n",
              "    [theme=dark] .colab-df-convert:hover {\n",
              "      background-color: #434B5C;\n",
              "      box-shadow: 0px 1px 3px 1px rgba(0, 0, 0, 0.15);\n",
              "      filter: drop-shadow(0px 1px 2px rgba(0, 0, 0, 0.3));\n",
              "      fill: #FFFFFF;\n",
              "    }\n",
              "  </style>\n",
              "\n",
              "    <script>\n",
              "      const buttonEl =\n",
              "        document.querySelector('#df-39c7d13d-c668-4254-8c60-04300926ba99 button.colab-df-convert');\n",
              "      buttonEl.style.display =\n",
              "        google.colab.kernel.accessAllowed ? 'block' : 'none';\n",
              "\n",
              "      async function convertToInteractive(key) {\n",
              "        const element = document.querySelector('#df-39c7d13d-c668-4254-8c60-04300926ba99');\n",
              "        const dataTable =\n",
              "          await google.colab.kernel.invokeFunction('convertToInteractive',\n",
              "                                                    [key], {});\n",
              "        if (!dataTable) return;\n",
              "\n",
              "        const docLinkHtml = 'Like what you see? Visit the ' +\n",
              "          '<a target=\"_blank\" href=https://colab.research.google.com/notebooks/data_table.ipynb>data table notebook</a>'\n",
              "          + ' to learn more about interactive tables.';\n",
              "        element.innerHTML = '';\n",
              "        dataTable['output_type'] = 'display_data';\n",
              "        await google.colab.output.renderOutput(dataTable, element);\n",
              "        const docLink = document.createElement('div');\n",
              "        docLink.innerHTML = docLinkHtml;\n",
              "        element.appendChild(docLink);\n",
              "      }\n",
              "    </script>\n",
              "  </div>\n",
              "\n",
              "\n",
              "<div id=\"df-f04f79f8-5f0c-4a75-b348-40d66e40165c\">\n",
              "  <button class=\"colab-df-quickchart\" onclick=\"quickchart('df-f04f79f8-5f0c-4a75-b348-40d66e40165c')\"\n",
              "            title=\"Suggest charts.\"\n",
              "            style=\"display:none;\">\n",
              "\n",
              "<svg xmlns=\"http://www.w3.org/2000/svg\" height=\"24px\"viewBox=\"0 0 24 24\"\n",
              "     width=\"24px\">\n",
              "    <g>\n",
              "        <path d=\"M19 3H5c-1.1 0-2 .9-2 2v14c0 1.1.9 2 2 2h14c1.1 0 2-.9 2-2V5c0-1.1-.9-2-2-2zM9 17H7v-7h2v7zm4 0h-2V7h2v10zm4 0h-2v-4h2v4z\"/>\n",
              "    </g>\n",
              "</svg>\n",
              "  </button>\n",
              "\n",
              "<style>\n",
              "  .colab-df-quickchart {\n",
              "      --bg-color: #E8F0FE;\n",
              "      --fill-color: #1967D2;\n",
              "      --hover-bg-color: #E2EBFA;\n",
              "      --hover-fill-color: #174EA6;\n",
              "      --disabled-fill-color: #AAA;\n",
              "      --disabled-bg-color: #DDD;\n",
              "  }\n",
              "\n",
              "  [theme=dark] .colab-df-quickchart {\n",
              "      --bg-color: #3B4455;\n",
              "      --fill-color: #D2E3FC;\n",
              "      --hover-bg-color: #434B5C;\n",
              "      --hover-fill-color: #FFFFFF;\n",
              "      --disabled-bg-color: #3B4455;\n",
              "      --disabled-fill-color: #666;\n",
              "  }\n",
              "\n",
              "  .colab-df-quickchart {\n",
              "    background-color: var(--bg-color);\n",
              "    border: none;\n",
              "    border-radius: 50%;\n",
              "    cursor: pointer;\n",
              "    display: none;\n",
              "    fill: var(--fill-color);\n",
              "    height: 32px;\n",
              "    padding: 0;\n",
              "    width: 32px;\n",
              "  }\n",
              "\n",
              "  .colab-df-quickchart:hover {\n",
              "    background-color: var(--hover-bg-color);\n",
              "    box-shadow: 0 1px 2px rgba(60, 64, 67, 0.3), 0 1px 3px 1px rgba(60, 64, 67, 0.15);\n",
              "    fill: var(--button-hover-fill-color);\n",
              "  }\n",
              "\n",
              "  .colab-df-quickchart-complete:disabled,\n",
              "  .colab-df-quickchart-complete:disabled:hover {\n",
              "    background-color: var(--disabled-bg-color);\n",
              "    fill: var(--disabled-fill-color);\n",
              "    box-shadow: none;\n",
              "  }\n",
              "\n",
              "  .colab-df-spinner {\n",
              "    border: 2px solid var(--fill-color);\n",
              "    border-color: transparent;\n",
              "    border-bottom-color: var(--fill-color);\n",
              "    animation:\n",
              "      spin 1s steps(1) infinite;\n",
              "  }\n",
              "\n",
              "  @keyframes spin {\n",
              "    0% {\n",
              "      border-color: transparent;\n",
              "      border-bottom-color: var(--fill-color);\n",
              "      border-left-color: var(--fill-color);\n",
              "    }\n",
              "    20% {\n",
              "      border-color: transparent;\n",
              "      border-left-color: var(--fill-color);\n",
              "      border-top-color: var(--fill-color);\n",
              "    }\n",
              "    30% {\n",
              "      border-color: transparent;\n",
              "      border-left-color: var(--fill-color);\n",
              "      border-top-color: var(--fill-color);\n",
              "      border-right-color: var(--fill-color);\n",
              "    }\n",
              "    40% {\n",
              "      border-color: transparent;\n",
              "      border-right-color: var(--fill-color);\n",
              "      border-top-color: var(--fill-color);\n",
              "    }\n",
              "    60% {\n",
              "      border-color: transparent;\n",
              "      border-right-color: var(--fill-color);\n",
              "    }\n",
              "    80% {\n",
              "      border-color: transparent;\n",
              "      border-right-color: var(--fill-color);\n",
              "      border-bottom-color: var(--fill-color);\n",
              "    }\n",
              "    90% {\n",
              "      border-color: transparent;\n",
              "      border-bottom-color: var(--fill-color);\n",
              "    }\n",
              "  }\n",
              "</style>\n",
              "\n",
              "  <script>\n",
              "    async function quickchart(key) {\n",
              "      const quickchartButtonEl =\n",
              "        document.querySelector('#' + key + ' button');\n",
              "      quickchartButtonEl.disabled = true;  // To prevent multiple clicks.\n",
              "      quickchartButtonEl.classList.add('colab-df-spinner');\n",
              "      try {\n",
              "        const charts = await google.colab.kernel.invokeFunction(\n",
              "            'suggestCharts', [key], {});\n",
              "      } catch (error) {\n",
              "        console.error('Error during call to suggestCharts:', error);\n",
              "      }\n",
              "      quickchartButtonEl.classList.remove('colab-df-spinner');\n",
              "      quickchartButtonEl.classList.add('colab-df-quickchart-complete');\n",
              "    }\n",
              "    (() => {\n",
              "      let quickchartButtonEl =\n",
              "        document.querySelector('#df-f04f79f8-5f0c-4a75-b348-40d66e40165c button');\n",
              "      quickchartButtonEl.style.display =\n",
              "        google.colab.kernel.accessAllowed ? 'block' : 'none';\n",
              "    })();\n",
              "  </script>\n",
              "</div>\n",
              "    </div>\n",
              "  </div>\n"
            ]
          },
          "metadata": {},
          "execution_count": 33
        }
      ],
      "source": [
        "pd.DataFrame(\n",
        "    data = [[1, 2, 3],\n",
        "            [4, 5, 6]],\n",
        "    columns=['a', 'b', 'c'],\n",
        "    index=['foo', 'bar'])"
      ]
    },
    {
      "cell_type": "markdown",
      "metadata": {
        "id": "FWYQJeRaLn78"
      },
      "source": [
        "Hay MUCHAS maneras de hacer cualquier cosa. Esto hace que el aprendizaje sea más difícil. Pero aquí vamos de todos modos."
      ]
    },
    {
      "cell_type": "markdown",
      "metadata": {
        "id": "xYn-wWvmLn78"
      },
      "source": [
        "### 8.- Hacer un DataFrame 'classrooms' que contenga:\n",
        "\n",
        "```python\n",
        "> print(classrooms)\n",
        "\n",
        "         chairs  projectors\n",
        "gym           0           1\n",
        "history       2           3\n",
        "math          4           5\n",
        "english       6           7\n",
        "```"
      ]
    },
    {
      "cell_type": "code",
      "execution_count": 34,
      "metadata": {
        "id": "ExQ_5zXPLn78",
        "outputId": "d9dfcd01-3978-493c-caef-75fabcfb47c0",
        "colab": {
          "base_uri": "https://localhost:8080/"
        }
      },
      "outputs": [
        {
          "output_type": "stream",
          "name": "stdout",
          "text": [
            "         chairs  projectors\n",
            "gym           0           1\n",
            "history       2           3\n",
            "math          4           5\n",
            "english       6           7\n"
          ]
        }
      ],
      "source": [
        "\n",
        "data = {'chairs': [0, 2, 4, 6], 'projectors': [1, 3, 5, 7]}\n",
        "index = ['gym', 'history', 'math', 'english']\n",
        "\n",
        "classrooms = pd.DataFrame(data, index=index)\n",
        "\n",
        "print(classrooms)\n",
        "\n"
      ]
    },
    {
      "cell_type": "markdown",
      "metadata": {
        "id": "qTEd-E7RLn79"
      },
      "source": [
        "### 9.- Hacer la Serie 'Chairs':\n",
        "\n",
        "```python\n",
        "gym        0\n",
        "history    2\n",
        "math       4\n",
        "english    6\n",
        "Name: chairs, dtype: int64\n",
        "```"
      ]
    },
    {
      "cell_type": "code",
      "execution_count": 35,
      "metadata": {
        "id": "dM5FWjzbLn79",
        "outputId": "a0ed53a2-265e-4a0a-ce43-ac7d5baa1c3a",
        "colab": {
          "base_uri": "https://localhost:8080/"
        }
      },
      "outputs": [
        {
          "output_type": "stream",
          "name": "stdout",
          "text": [
            "gym        0\n",
            "history    2\n",
            "math       4\n",
            "english    6\n",
            "Name: chairs, dtype: int64\n"
          ]
        }
      ],
      "source": [
        "data = {'chairs': [0, 2, 4, 6]}\n",
        "index = ['gym', 'history', 'math', 'english']\n",
        "\n",
        "chairs = pd.Series(data['chairs'], index=index, name='chairs')\n",
        "\n",
        "print(chairs)\n",
        "\n",
        "\n"
      ]
    },
    {
      "cell_type": "markdown",
      "metadata": {
        "id": "31wMU-5HLn79"
      },
      "source": [
        "### 10.- Hacer la serie 'projectors'\n",
        "\n",
        "```python\n",
        "gym        1\n",
        "history    3\n",
        "math       5\n",
        "english    7\n",
        "Name: projectors, dtype: int64\n",
        "```"
      ]
    },
    {
      "cell_type": "code",
      "execution_count": 36,
      "metadata": {
        "id": "qmcpC9hqLn79",
        "outputId": "074bffe2-3d31-450e-ea4d-e06fbc705f34",
        "colab": {
          "base_uri": "https://localhost:8080/"
        }
      },
      "outputs": [
        {
          "output_type": "stream",
          "name": "stdout",
          "text": [
            "gym        1\n",
            "history    3\n",
            "math       5\n",
            "english    7\n",
            "Name: projectors, dtype: int64\n"
          ]
        }
      ],
      "source": [
        "data = {'projectors':[ 1, 3, 5, 7]}\n",
        "index = ['gym', 'history', 'math', 'english']\n",
        "projectors = pd.Series(data['projectors'], index=index, name='projectors')\n",
        "print(projectors)\n",
        "\n"
      ]
    },
    {
      "cell_type": "markdown",
      "metadata": {
        "id": "qExalVJJLn79"
      },
      "source": [
        "### 11.- Hacer de nuevo el DataFrame 'classrooms' , pero esta vez utilizando las series 'chairs' y 'projectors'\n",
        "\n",
        "```python\n",
        "> print(classrooms)\n",
        "\n",
        "         chairs  projectors\n",
        "gym           0           1\n",
        "history       2           3\n",
        "math          4           5\n",
        "english       6           7\n",
        "```"
      ]
    },
    {
      "cell_type": "code",
      "execution_count": 37,
      "metadata": {
        "id": "RsIRn3HSLn79",
        "outputId": "c164f204-2bbb-4769-b36e-884763edd394",
        "colab": {
          "base_uri": "https://localhost:8080/",
          "height": 174
        }
      },
      "outputs": [
        {
          "output_type": "execute_result",
          "data": {
            "text/plain": [
              "         chairs  projectors\n",
              "gym           0           1\n",
              "history       2           3\n",
              "math          4           5\n",
              "english       6           7"
            ],
            "text/html": [
              "\n",
              "  <div id=\"df-07ddfa4a-1f9c-4078-84ab-0078646f08cc\" class=\"colab-df-container\">\n",
              "    <div>\n",
              "<style scoped>\n",
              "    .dataframe tbody tr th:only-of-type {\n",
              "        vertical-align: middle;\n",
              "    }\n",
              "\n",
              "    .dataframe tbody tr th {\n",
              "        vertical-align: top;\n",
              "    }\n",
              "\n",
              "    .dataframe thead th {\n",
              "        text-align: right;\n",
              "    }\n",
              "</style>\n",
              "<table border=\"1\" class=\"dataframe\">\n",
              "  <thead>\n",
              "    <tr style=\"text-align: right;\">\n",
              "      <th></th>\n",
              "      <th>chairs</th>\n",
              "      <th>projectors</th>\n",
              "    </tr>\n",
              "  </thead>\n",
              "  <tbody>\n",
              "    <tr>\n",
              "      <th>gym</th>\n",
              "      <td>0</td>\n",
              "      <td>1</td>\n",
              "    </tr>\n",
              "    <tr>\n",
              "      <th>history</th>\n",
              "      <td>2</td>\n",
              "      <td>3</td>\n",
              "    </tr>\n",
              "    <tr>\n",
              "      <th>math</th>\n",
              "      <td>4</td>\n",
              "      <td>5</td>\n",
              "    </tr>\n",
              "    <tr>\n",
              "      <th>english</th>\n",
              "      <td>6</td>\n",
              "      <td>7</td>\n",
              "    </tr>\n",
              "  </tbody>\n",
              "</table>\n",
              "</div>\n",
              "    <div class=\"colab-df-buttons\">\n",
              "\n",
              "  <div class=\"colab-df-container\">\n",
              "    <button class=\"colab-df-convert\" onclick=\"convertToInteractive('df-07ddfa4a-1f9c-4078-84ab-0078646f08cc')\"\n",
              "            title=\"Convert this dataframe to an interactive table.\"\n",
              "            style=\"display:none;\">\n",
              "\n",
              "  <svg xmlns=\"http://www.w3.org/2000/svg\" height=\"24px\" viewBox=\"0 -960 960 960\">\n",
              "    <path d=\"M120-120v-720h720v720H120Zm60-500h600v-160H180v160Zm220 220h160v-160H400v160Zm0 220h160v-160H400v160ZM180-400h160v-160H180v160Zm440 0h160v-160H620v160ZM180-180h160v-160H180v160Zm440 0h160v-160H620v160Z\"/>\n",
              "  </svg>\n",
              "    </button>\n",
              "\n",
              "  <style>\n",
              "    .colab-df-container {\n",
              "      display:flex;\n",
              "      gap: 12px;\n",
              "    }\n",
              "\n",
              "    .colab-df-convert {\n",
              "      background-color: #E8F0FE;\n",
              "      border: none;\n",
              "      border-radius: 50%;\n",
              "      cursor: pointer;\n",
              "      display: none;\n",
              "      fill: #1967D2;\n",
              "      height: 32px;\n",
              "      padding: 0 0 0 0;\n",
              "      width: 32px;\n",
              "    }\n",
              "\n",
              "    .colab-df-convert:hover {\n",
              "      background-color: #E2EBFA;\n",
              "      box-shadow: 0px 1px 2px rgba(60, 64, 67, 0.3), 0px 1px 3px 1px rgba(60, 64, 67, 0.15);\n",
              "      fill: #174EA6;\n",
              "    }\n",
              "\n",
              "    .colab-df-buttons div {\n",
              "      margin-bottom: 4px;\n",
              "    }\n",
              "\n",
              "    [theme=dark] .colab-df-convert {\n",
              "      background-color: #3B4455;\n",
              "      fill: #D2E3FC;\n",
              "    }\n",
              "\n",
              "    [theme=dark] .colab-df-convert:hover {\n",
              "      background-color: #434B5C;\n",
              "      box-shadow: 0px 1px 3px 1px rgba(0, 0, 0, 0.15);\n",
              "      filter: drop-shadow(0px 1px 2px rgba(0, 0, 0, 0.3));\n",
              "      fill: #FFFFFF;\n",
              "    }\n",
              "  </style>\n",
              "\n",
              "    <script>\n",
              "      const buttonEl =\n",
              "        document.querySelector('#df-07ddfa4a-1f9c-4078-84ab-0078646f08cc button.colab-df-convert');\n",
              "      buttonEl.style.display =\n",
              "        google.colab.kernel.accessAllowed ? 'block' : 'none';\n",
              "\n",
              "      async function convertToInteractive(key) {\n",
              "        const element = document.querySelector('#df-07ddfa4a-1f9c-4078-84ab-0078646f08cc');\n",
              "        const dataTable =\n",
              "          await google.colab.kernel.invokeFunction('convertToInteractive',\n",
              "                                                    [key], {});\n",
              "        if (!dataTable) return;\n",
              "\n",
              "        const docLinkHtml = 'Like what you see? Visit the ' +\n",
              "          '<a target=\"_blank\" href=https://colab.research.google.com/notebooks/data_table.ipynb>data table notebook</a>'\n",
              "          + ' to learn more about interactive tables.';\n",
              "        element.innerHTML = '';\n",
              "        dataTable['output_type'] = 'display_data';\n",
              "        await google.colab.output.renderOutput(dataTable, element);\n",
              "        const docLink = document.createElement('div');\n",
              "        docLink.innerHTML = docLinkHtml;\n",
              "        element.appendChild(docLink);\n",
              "      }\n",
              "    </script>\n",
              "  </div>\n",
              "\n",
              "\n",
              "<div id=\"df-e3edc401-210d-4abc-a3e1-e96ef1b765ef\">\n",
              "  <button class=\"colab-df-quickchart\" onclick=\"quickchart('df-e3edc401-210d-4abc-a3e1-e96ef1b765ef')\"\n",
              "            title=\"Suggest charts.\"\n",
              "            style=\"display:none;\">\n",
              "\n",
              "<svg xmlns=\"http://www.w3.org/2000/svg\" height=\"24px\"viewBox=\"0 0 24 24\"\n",
              "     width=\"24px\">\n",
              "    <g>\n",
              "        <path d=\"M19 3H5c-1.1 0-2 .9-2 2v14c0 1.1.9 2 2 2h14c1.1 0 2-.9 2-2V5c0-1.1-.9-2-2-2zM9 17H7v-7h2v7zm4 0h-2V7h2v10zm4 0h-2v-4h2v4z\"/>\n",
              "    </g>\n",
              "</svg>\n",
              "  </button>\n",
              "\n",
              "<style>\n",
              "  .colab-df-quickchart {\n",
              "      --bg-color: #E8F0FE;\n",
              "      --fill-color: #1967D2;\n",
              "      --hover-bg-color: #E2EBFA;\n",
              "      --hover-fill-color: #174EA6;\n",
              "      --disabled-fill-color: #AAA;\n",
              "      --disabled-bg-color: #DDD;\n",
              "  }\n",
              "\n",
              "  [theme=dark] .colab-df-quickchart {\n",
              "      --bg-color: #3B4455;\n",
              "      --fill-color: #D2E3FC;\n",
              "      --hover-bg-color: #434B5C;\n",
              "      --hover-fill-color: #FFFFFF;\n",
              "      --disabled-bg-color: #3B4455;\n",
              "      --disabled-fill-color: #666;\n",
              "  }\n",
              "\n",
              "  .colab-df-quickchart {\n",
              "    background-color: var(--bg-color);\n",
              "    border: none;\n",
              "    border-radius: 50%;\n",
              "    cursor: pointer;\n",
              "    display: none;\n",
              "    fill: var(--fill-color);\n",
              "    height: 32px;\n",
              "    padding: 0;\n",
              "    width: 32px;\n",
              "  }\n",
              "\n",
              "  .colab-df-quickchart:hover {\n",
              "    background-color: var(--hover-bg-color);\n",
              "    box-shadow: 0 1px 2px rgba(60, 64, 67, 0.3), 0 1px 3px 1px rgba(60, 64, 67, 0.15);\n",
              "    fill: var(--button-hover-fill-color);\n",
              "  }\n",
              "\n",
              "  .colab-df-quickchart-complete:disabled,\n",
              "  .colab-df-quickchart-complete:disabled:hover {\n",
              "    background-color: var(--disabled-bg-color);\n",
              "    fill: var(--disabled-fill-color);\n",
              "    box-shadow: none;\n",
              "  }\n",
              "\n",
              "  .colab-df-spinner {\n",
              "    border: 2px solid var(--fill-color);\n",
              "    border-color: transparent;\n",
              "    border-bottom-color: var(--fill-color);\n",
              "    animation:\n",
              "      spin 1s steps(1) infinite;\n",
              "  }\n",
              "\n",
              "  @keyframes spin {\n",
              "    0% {\n",
              "      border-color: transparent;\n",
              "      border-bottom-color: var(--fill-color);\n",
              "      border-left-color: var(--fill-color);\n",
              "    }\n",
              "    20% {\n",
              "      border-color: transparent;\n",
              "      border-left-color: var(--fill-color);\n",
              "      border-top-color: var(--fill-color);\n",
              "    }\n",
              "    30% {\n",
              "      border-color: transparent;\n",
              "      border-left-color: var(--fill-color);\n",
              "      border-top-color: var(--fill-color);\n",
              "      border-right-color: var(--fill-color);\n",
              "    }\n",
              "    40% {\n",
              "      border-color: transparent;\n",
              "      border-right-color: var(--fill-color);\n",
              "      border-top-color: var(--fill-color);\n",
              "    }\n",
              "    60% {\n",
              "      border-color: transparent;\n",
              "      border-right-color: var(--fill-color);\n",
              "    }\n",
              "    80% {\n",
              "      border-color: transparent;\n",
              "      border-right-color: var(--fill-color);\n",
              "      border-bottom-color: var(--fill-color);\n",
              "    }\n",
              "    90% {\n",
              "      border-color: transparent;\n",
              "      border-bottom-color: var(--fill-color);\n",
              "    }\n",
              "  }\n",
              "</style>\n",
              "\n",
              "  <script>\n",
              "    async function quickchart(key) {\n",
              "      const quickchartButtonEl =\n",
              "        document.querySelector('#' + key + ' button');\n",
              "      quickchartButtonEl.disabled = true;  // To prevent multiple clicks.\n",
              "      quickchartButtonEl.classList.add('colab-df-spinner');\n",
              "      try {\n",
              "        const charts = await google.colab.kernel.invokeFunction(\n",
              "            'suggestCharts', [key], {});\n",
              "      } catch (error) {\n",
              "        console.error('Error during call to suggestCharts:', error);\n",
              "      }\n",
              "      quickchartButtonEl.classList.remove('colab-df-spinner');\n",
              "      quickchartButtonEl.classList.add('colab-df-quickchart-complete');\n",
              "    }\n",
              "    (() => {\n",
              "      let quickchartButtonEl =\n",
              "        document.querySelector('#df-e3edc401-210d-4abc-a3e1-e96ef1b765ef button');\n",
              "      quickchartButtonEl.style.display =\n",
              "        google.colab.kernel.accessAllowed ? 'block' : 'none';\n",
              "    })();\n",
              "  </script>\n",
              "</div>\n",
              "    </div>\n",
              "  </div>\n"
            ]
          },
          "metadata": {},
          "execution_count": 37
        }
      ],
      "source": [
        "classrooms = pd.DataFrame({'chairs':chairs, 'projectors':projectors})\n",
        "classrooms\n",
        "\n"
      ]
    },
    {
      "cell_type": "markdown",
      "metadata": {
        "id": "hgimu6mZLn79"
      },
      "source": [
        "### 12.- Crear el DataFrame 'down_up' con dos columnas: 'decreasing' e 'increasing' con los números 1-10 en cada orden\n",
        "\n",
        "\n",
        "```python\n",
        "> print(down_up)\n",
        "\n",
        "   decreasing  increasing\n",
        "0          10           1\n",
        "1           9           2\n",
        "2           8           3\n",
        "3           7           4\n",
        "4           6           5\n",
        "5           5           6\n",
        "6           4           7\n",
        "7           3           8\n",
        "8           2           9\n",
        "9           1          10\n",
        "```"
      ]
    },
    {
      "cell_type": "code",
      "execution_count": 38,
      "metadata": {
        "id": "xpGsFiTVLn79",
        "outputId": "642a2438-5f73-48b9-8cdb-8aabd6bb3941",
        "colab": {
          "base_uri": "https://localhost:8080/"
        }
      },
      "outputs": [
        {
          "output_type": "stream",
          "name": "stdout",
          "text": [
            "   decreasing  increasing\n",
            "0          10           1\n",
            "1           9           2\n",
            "2           8           3\n",
            "3           7           4\n",
            "4           6           5\n",
            "5           5           6\n",
            "6           4           7\n",
            "7           3           8\n",
            "8           2           9\n",
            "9           1          10\n"
          ]
        }
      ],
      "source": [
        "data = {'decreasing': list(range(10, 0, -1)), 'increasing': list(range(1, 11))}\n",
        "down_up = pd.DataFrame(data)\n",
        "\n",
        "print(down_up)\n",
        "\n",
        "\n"
      ]
    },
    {
      "cell_type": "markdown",
      "metadata": {
        "id": "S4rbXAUILn79"
      },
      "source": [
        "También puede poner una Serie en un DataFrame siempre que tenga un índice que coincida."
      ]
    },
    {
      "cell_type": "markdown",
      "metadata": {
        "id": "S7LUPyxiLn7-"
      },
      "source": [
        "## Modificar DataFrames"
      ]
    },
    {
      "cell_type": "markdown",
      "metadata": {
        "id": "Cim5vRlkLn7-"
      },
      "source": [
        "Los dataframes son MUY parecidos a los arrays de numpy con columnas e índices añadidos.\n",
        "\n",
        "Pero a diferencia de los arrays (que tienen un tamaño fijo), ¡podemos añadir columnas a un dataframe!"
      ]
    },
    {
      "cell_type": "code",
      "execution_count": 39,
      "metadata": {
        "scrolled": true,
        "id": "qN4OhJ2vLn7-",
        "outputId": "89e03e34-f7ed-4b16-c063-559b8db0edc0",
        "colab": {
          "base_uri": "https://localhost:8080/",
          "height": 206
        }
      },
      "outputs": [
        {
          "output_type": "execute_result",
          "data": {
            "text/plain": [
              "          grade  height  was_late\n",
              "Angel        56     NaN      True\n",
              "Haden        90    38.0     False\n",
              "Michaela     89     NaN      True\n",
              "Stacy        78    36.0     False\n",
              "Tomas        45    34.0     False"
            ],
            "text/html": [
              "\n",
              "  <div id=\"df-f51b3512-8dba-42a0-b3c1-db53731c5ce1\" class=\"colab-df-container\">\n",
              "    <div>\n",
              "<style scoped>\n",
              "    .dataframe tbody tr th:only-of-type {\n",
              "        vertical-align: middle;\n",
              "    }\n",
              "\n",
              "    .dataframe tbody tr th {\n",
              "        vertical-align: top;\n",
              "    }\n",
              "\n",
              "    .dataframe thead th {\n",
              "        text-align: right;\n",
              "    }\n",
              "</style>\n",
              "<table border=\"1\" class=\"dataframe\">\n",
              "  <thead>\n",
              "    <tr style=\"text-align: right;\">\n",
              "      <th></th>\n",
              "      <th>grade</th>\n",
              "      <th>height</th>\n",
              "      <th>was_late</th>\n",
              "    </tr>\n",
              "  </thead>\n",
              "  <tbody>\n",
              "    <tr>\n",
              "      <th>Angel</th>\n",
              "      <td>56</td>\n",
              "      <td>NaN</td>\n",
              "      <td>True</td>\n",
              "    </tr>\n",
              "    <tr>\n",
              "      <th>Haden</th>\n",
              "      <td>90</td>\n",
              "      <td>38.0</td>\n",
              "      <td>False</td>\n",
              "    </tr>\n",
              "    <tr>\n",
              "      <th>Michaela</th>\n",
              "      <td>89</td>\n",
              "      <td>NaN</td>\n",
              "      <td>True</td>\n",
              "    </tr>\n",
              "    <tr>\n",
              "      <th>Stacy</th>\n",
              "      <td>78</td>\n",
              "      <td>36.0</td>\n",
              "      <td>False</td>\n",
              "    </tr>\n",
              "    <tr>\n",
              "      <th>Tomas</th>\n",
              "      <td>45</td>\n",
              "      <td>34.0</td>\n",
              "      <td>False</td>\n",
              "    </tr>\n",
              "  </tbody>\n",
              "</table>\n",
              "</div>\n",
              "    <div class=\"colab-df-buttons\">\n",
              "\n",
              "  <div class=\"colab-df-container\">\n",
              "    <button class=\"colab-df-convert\" onclick=\"convertToInteractive('df-f51b3512-8dba-42a0-b3c1-db53731c5ce1')\"\n",
              "            title=\"Convert this dataframe to an interactive table.\"\n",
              "            style=\"display:none;\">\n",
              "\n",
              "  <svg xmlns=\"http://www.w3.org/2000/svg\" height=\"24px\" viewBox=\"0 -960 960 960\">\n",
              "    <path d=\"M120-120v-720h720v720H120Zm60-500h600v-160H180v160Zm220 220h160v-160H400v160Zm0 220h160v-160H400v160ZM180-400h160v-160H180v160Zm440 0h160v-160H620v160ZM180-180h160v-160H180v160Zm440 0h160v-160H620v160Z\"/>\n",
              "  </svg>\n",
              "    </button>\n",
              "\n",
              "  <style>\n",
              "    .colab-df-container {\n",
              "      display:flex;\n",
              "      gap: 12px;\n",
              "    }\n",
              "\n",
              "    .colab-df-convert {\n",
              "      background-color: #E8F0FE;\n",
              "      border: none;\n",
              "      border-radius: 50%;\n",
              "      cursor: pointer;\n",
              "      display: none;\n",
              "      fill: #1967D2;\n",
              "      height: 32px;\n",
              "      padding: 0 0 0 0;\n",
              "      width: 32px;\n",
              "    }\n",
              "\n",
              "    .colab-df-convert:hover {\n",
              "      background-color: #E2EBFA;\n",
              "      box-shadow: 0px 1px 2px rgba(60, 64, 67, 0.3), 0px 1px 3px 1px rgba(60, 64, 67, 0.15);\n",
              "      fill: #174EA6;\n",
              "    }\n",
              "\n",
              "    .colab-df-buttons div {\n",
              "      margin-bottom: 4px;\n",
              "    }\n",
              "\n",
              "    [theme=dark] .colab-df-convert {\n",
              "      background-color: #3B4455;\n",
              "      fill: #D2E3FC;\n",
              "    }\n",
              "\n",
              "    [theme=dark] .colab-df-convert:hover {\n",
              "      background-color: #434B5C;\n",
              "      box-shadow: 0px 1px 3px 1px rgba(0, 0, 0, 0.15);\n",
              "      filter: drop-shadow(0px 1px 2px rgba(0, 0, 0, 0.3));\n",
              "      fill: #FFFFFF;\n",
              "    }\n",
              "  </style>\n",
              "\n",
              "    <script>\n",
              "      const buttonEl =\n",
              "        document.querySelector('#df-f51b3512-8dba-42a0-b3c1-db53731c5ce1 button.colab-df-convert');\n",
              "      buttonEl.style.display =\n",
              "        google.colab.kernel.accessAllowed ? 'block' : 'none';\n",
              "\n",
              "      async function convertToInteractive(key) {\n",
              "        const element = document.querySelector('#df-f51b3512-8dba-42a0-b3c1-db53731c5ce1');\n",
              "        const dataTable =\n",
              "          await google.colab.kernel.invokeFunction('convertToInteractive',\n",
              "                                                    [key], {});\n",
              "        if (!dataTable) return;\n",
              "\n",
              "        const docLinkHtml = 'Like what you see? Visit the ' +\n",
              "          '<a target=\"_blank\" href=https://colab.research.google.com/notebooks/data_table.ipynb>data table notebook</a>'\n",
              "          + ' to learn more about interactive tables.';\n",
              "        element.innerHTML = '';\n",
              "        dataTable['output_type'] = 'display_data';\n",
              "        await google.colab.output.renderOutput(dataTable, element);\n",
              "        const docLink = document.createElement('div');\n",
              "        docLink.innerHTML = docLinkHtml;\n",
              "        element.appendChild(docLink);\n",
              "      }\n",
              "    </script>\n",
              "  </div>\n",
              "\n",
              "\n",
              "<div id=\"df-a04bc103-3b70-4dde-a45a-1238dc4a4719\">\n",
              "  <button class=\"colab-df-quickchart\" onclick=\"quickchart('df-a04bc103-3b70-4dde-a45a-1238dc4a4719')\"\n",
              "            title=\"Suggest charts.\"\n",
              "            style=\"display:none;\">\n",
              "\n",
              "<svg xmlns=\"http://www.w3.org/2000/svg\" height=\"24px\"viewBox=\"0 0 24 24\"\n",
              "     width=\"24px\">\n",
              "    <g>\n",
              "        <path d=\"M19 3H5c-1.1 0-2 .9-2 2v14c0 1.1.9 2 2 2h14c1.1 0 2-.9 2-2V5c0-1.1-.9-2-2-2zM9 17H7v-7h2v7zm4 0h-2V7h2v10zm4 0h-2v-4h2v4z\"/>\n",
              "    </g>\n",
              "</svg>\n",
              "  </button>\n",
              "\n",
              "<style>\n",
              "  .colab-df-quickchart {\n",
              "      --bg-color: #E8F0FE;\n",
              "      --fill-color: #1967D2;\n",
              "      --hover-bg-color: #E2EBFA;\n",
              "      --hover-fill-color: #174EA6;\n",
              "      --disabled-fill-color: #AAA;\n",
              "      --disabled-bg-color: #DDD;\n",
              "  }\n",
              "\n",
              "  [theme=dark] .colab-df-quickchart {\n",
              "      --bg-color: #3B4455;\n",
              "      --fill-color: #D2E3FC;\n",
              "      --hover-bg-color: #434B5C;\n",
              "      --hover-fill-color: #FFFFFF;\n",
              "      --disabled-bg-color: #3B4455;\n",
              "      --disabled-fill-color: #666;\n",
              "  }\n",
              "\n",
              "  .colab-df-quickchart {\n",
              "    background-color: var(--bg-color);\n",
              "    border: none;\n",
              "    border-radius: 50%;\n",
              "    cursor: pointer;\n",
              "    display: none;\n",
              "    fill: var(--fill-color);\n",
              "    height: 32px;\n",
              "    padding: 0;\n",
              "    width: 32px;\n",
              "  }\n",
              "\n",
              "  .colab-df-quickchart:hover {\n",
              "    background-color: var(--hover-bg-color);\n",
              "    box-shadow: 0 1px 2px rgba(60, 64, 67, 0.3), 0 1px 3px 1px rgba(60, 64, 67, 0.15);\n",
              "    fill: var(--button-hover-fill-color);\n",
              "  }\n",
              "\n",
              "  .colab-df-quickchart-complete:disabled,\n",
              "  .colab-df-quickchart-complete:disabled:hover {\n",
              "    background-color: var(--disabled-bg-color);\n",
              "    fill: var(--disabled-fill-color);\n",
              "    box-shadow: none;\n",
              "  }\n",
              "\n",
              "  .colab-df-spinner {\n",
              "    border: 2px solid var(--fill-color);\n",
              "    border-color: transparent;\n",
              "    border-bottom-color: var(--fill-color);\n",
              "    animation:\n",
              "      spin 1s steps(1) infinite;\n",
              "  }\n",
              "\n",
              "  @keyframes spin {\n",
              "    0% {\n",
              "      border-color: transparent;\n",
              "      border-bottom-color: var(--fill-color);\n",
              "      border-left-color: var(--fill-color);\n",
              "    }\n",
              "    20% {\n",
              "      border-color: transparent;\n",
              "      border-left-color: var(--fill-color);\n",
              "      border-top-color: var(--fill-color);\n",
              "    }\n",
              "    30% {\n",
              "      border-color: transparent;\n",
              "      border-left-color: var(--fill-color);\n",
              "      border-top-color: var(--fill-color);\n",
              "      border-right-color: var(--fill-color);\n",
              "    }\n",
              "    40% {\n",
              "      border-color: transparent;\n",
              "      border-right-color: var(--fill-color);\n",
              "      border-top-color: var(--fill-color);\n",
              "    }\n",
              "    60% {\n",
              "      border-color: transparent;\n",
              "      border-right-color: var(--fill-color);\n",
              "    }\n",
              "    80% {\n",
              "      border-color: transparent;\n",
              "      border-right-color: var(--fill-color);\n",
              "      border-bottom-color: var(--fill-color);\n",
              "    }\n",
              "    90% {\n",
              "      border-color: transparent;\n",
              "      border-bottom-color: var(--fill-color);\n",
              "    }\n",
              "  }\n",
              "</style>\n",
              "\n",
              "  <script>\n",
              "    async function quickchart(key) {\n",
              "      const quickchartButtonEl =\n",
              "        document.querySelector('#' + key + ' button');\n",
              "      quickchartButtonEl.disabled = true;  // To prevent multiple clicks.\n",
              "      quickchartButtonEl.classList.add('colab-df-spinner');\n",
              "      try {\n",
              "        const charts = await google.colab.kernel.invokeFunction(\n",
              "            'suggestCharts', [key], {});\n",
              "      } catch (error) {\n",
              "        console.error('Error during call to suggestCharts:', error);\n",
              "      }\n",
              "      quickchartButtonEl.classList.remove('colab-df-spinner');\n",
              "      quickchartButtonEl.classList.add('colab-df-quickchart-complete');\n",
              "    }\n",
              "    (() => {\n",
              "      let quickchartButtonEl =\n",
              "        document.querySelector('#df-a04bc103-3b70-4dde-a45a-1238dc4a4719 button');\n",
              "      quickchartButtonEl.style.display =\n",
              "        google.colab.kernel.accessAllowed ? 'block' : 'none';\n",
              "    })();\n",
              "  </script>\n",
              "</div>\n",
              "    </div>\n",
              "  </div>\n"
            ]
          },
          "metadata": {},
          "execution_count": 39
        }
      ],
      "source": [
        "students['was_late'] = [True, False, True, False, False]\n",
        "students"
      ]
    },
    {
      "cell_type": "markdown",
      "metadata": {
        "id": "w0Ob36xjLn7-"
      },
      "source": [
        "Tambien es posible a través de un array"
      ]
    },
    {
      "cell_type": "code",
      "execution_count": 40,
      "metadata": {
        "id": "lJq9nx_7Ln7-",
        "outputId": "ca34de97-2987-4f17-ac66-c3bc5c342e6e",
        "colab": {
          "base_uri": "https://localhost:8080/",
          "height": 206
        }
      },
      "outputs": [
        {
          "output_type": "execute_result",
          "data": {
            "text/plain": [
              "          grade  height  was_late\n",
              "Angel        56     NaN      True\n",
              "Haden        90    38.0     False\n",
              "Michaela     89     NaN      True\n",
              "Stacy        78    36.0     False\n",
              "Tomas        45    34.0     False"
            ],
            "text/html": [
              "\n",
              "  <div id=\"df-568fd37e-0406-4606-8b3b-2e32ef08ccd3\" class=\"colab-df-container\">\n",
              "    <div>\n",
              "<style scoped>\n",
              "    .dataframe tbody tr th:only-of-type {\n",
              "        vertical-align: middle;\n",
              "    }\n",
              "\n",
              "    .dataframe tbody tr th {\n",
              "        vertical-align: top;\n",
              "    }\n",
              "\n",
              "    .dataframe thead th {\n",
              "        text-align: right;\n",
              "    }\n",
              "</style>\n",
              "<table border=\"1\" class=\"dataframe\">\n",
              "  <thead>\n",
              "    <tr style=\"text-align: right;\">\n",
              "      <th></th>\n",
              "      <th>grade</th>\n",
              "      <th>height</th>\n",
              "      <th>was_late</th>\n",
              "    </tr>\n",
              "  </thead>\n",
              "  <tbody>\n",
              "    <tr>\n",
              "      <th>Angel</th>\n",
              "      <td>56</td>\n",
              "      <td>NaN</td>\n",
              "      <td>True</td>\n",
              "    </tr>\n",
              "    <tr>\n",
              "      <th>Haden</th>\n",
              "      <td>90</td>\n",
              "      <td>38.0</td>\n",
              "      <td>False</td>\n",
              "    </tr>\n",
              "    <tr>\n",
              "      <th>Michaela</th>\n",
              "      <td>89</td>\n",
              "      <td>NaN</td>\n",
              "      <td>True</td>\n",
              "    </tr>\n",
              "    <tr>\n",
              "      <th>Stacy</th>\n",
              "      <td>78</td>\n",
              "      <td>36.0</td>\n",
              "      <td>False</td>\n",
              "    </tr>\n",
              "    <tr>\n",
              "      <th>Tomas</th>\n",
              "      <td>45</td>\n",
              "      <td>34.0</td>\n",
              "      <td>False</td>\n",
              "    </tr>\n",
              "  </tbody>\n",
              "</table>\n",
              "</div>\n",
              "    <div class=\"colab-df-buttons\">\n",
              "\n",
              "  <div class=\"colab-df-container\">\n",
              "    <button class=\"colab-df-convert\" onclick=\"convertToInteractive('df-568fd37e-0406-4606-8b3b-2e32ef08ccd3')\"\n",
              "            title=\"Convert this dataframe to an interactive table.\"\n",
              "            style=\"display:none;\">\n",
              "\n",
              "  <svg xmlns=\"http://www.w3.org/2000/svg\" height=\"24px\" viewBox=\"0 -960 960 960\">\n",
              "    <path d=\"M120-120v-720h720v720H120Zm60-500h600v-160H180v160Zm220 220h160v-160H400v160Zm0 220h160v-160H400v160ZM180-400h160v-160H180v160Zm440 0h160v-160H620v160ZM180-180h160v-160H180v160Zm440 0h160v-160H620v160Z\"/>\n",
              "  </svg>\n",
              "    </button>\n",
              "\n",
              "  <style>\n",
              "    .colab-df-container {\n",
              "      display:flex;\n",
              "      gap: 12px;\n",
              "    }\n",
              "\n",
              "    .colab-df-convert {\n",
              "      background-color: #E8F0FE;\n",
              "      border: none;\n",
              "      border-radius: 50%;\n",
              "      cursor: pointer;\n",
              "      display: none;\n",
              "      fill: #1967D2;\n",
              "      height: 32px;\n",
              "      padding: 0 0 0 0;\n",
              "      width: 32px;\n",
              "    }\n",
              "\n",
              "    .colab-df-convert:hover {\n",
              "      background-color: #E2EBFA;\n",
              "      box-shadow: 0px 1px 2px rgba(60, 64, 67, 0.3), 0px 1px 3px 1px rgba(60, 64, 67, 0.15);\n",
              "      fill: #174EA6;\n",
              "    }\n",
              "\n",
              "    .colab-df-buttons div {\n",
              "      margin-bottom: 4px;\n",
              "    }\n",
              "\n",
              "    [theme=dark] .colab-df-convert {\n",
              "      background-color: #3B4455;\n",
              "      fill: #D2E3FC;\n",
              "    }\n",
              "\n",
              "    [theme=dark] .colab-df-convert:hover {\n",
              "      background-color: #434B5C;\n",
              "      box-shadow: 0px 1px 3px 1px rgba(0, 0, 0, 0.15);\n",
              "      filter: drop-shadow(0px 1px 2px rgba(0, 0, 0, 0.3));\n",
              "      fill: #FFFFFF;\n",
              "    }\n",
              "  </style>\n",
              "\n",
              "    <script>\n",
              "      const buttonEl =\n",
              "        document.querySelector('#df-568fd37e-0406-4606-8b3b-2e32ef08ccd3 button.colab-df-convert');\n",
              "      buttonEl.style.display =\n",
              "        google.colab.kernel.accessAllowed ? 'block' : 'none';\n",
              "\n",
              "      async function convertToInteractive(key) {\n",
              "        const element = document.querySelector('#df-568fd37e-0406-4606-8b3b-2e32ef08ccd3');\n",
              "        const dataTable =\n",
              "          await google.colab.kernel.invokeFunction('convertToInteractive',\n",
              "                                                    [key], {});\n",
              "        if (!dataTable) return;\n",
              "\n",
              "        const docLinkHtml = 'Like what you see? Visit the ' +\n",
              "          '<a target=\"_blank\" href=https://colab.research.google.com/notebooks/data_table.ipynb>data table notebook</a>'\n",
              "          + ' to learn more about interactive tables.';\n",
              "        element.innerHTML = '';\n",
              "        dataTable['output_type'] = 'display_data';\n",
              "        await google.colab.output.renderOutput(dataTable, element);\n",
              "        const docLink = document.createElement('div');\n",
              "        docLink.innerHTML = docLinkHtml;\n",
              "        element.appendChild(docLink);\n",
              "      }\n",
              "    </script>\n",
              "  </div>\n",
              "\n",
              "\n",
              "<div id=\"df-311b9dfe-1e8c-4dc9-9f74-6e9aa471e74d\">\n",
              "  <button class=\"colab-df-quickchart\" onclick=\"quickchart('df-311b9dfe-1e8c-4dc9-9f74-6e9aa471e74d')\"\n",
              "            title=\"Suggest charts.\"\n",
              "            style=\"display:none;\">\n",
              "\n",
              "<svg xmlns=\"http://www.w3.org/2000/svg\" height=\"24px\"viewBox=\"0 0 24 24\"\n",
              "     width=\"24px\">\n",
              "    <g>\n",
              "        <path d=\"M19 3H5c-1.1 0-2 .9-2 2v14c0 1.1.9 2 2 2h14c1.1 0 2-.9 2-2V5c0-1.1-.9-2-2-2zM9 17H7v-7h2v7zm4 0h-2V7h2v10zm4 0h-2v-4h2v4z\"/>\n",
              "    </g>\n",
              "</svg>\n",
              "  </button>\n",
              "\n",
              "<style>\n",
              "  .colab-df-quickchart {\n",
              "      --bg-color: #E8F0FE;\n",
              "      --fill-color: #1967D2;\n",
              "      --hover-bg-color: #E2EBFA;\n",
              "      --hover-fill-color: #174EA6;\n",
              "      --disabled-fill-color: #AAA;\n",
              "      --disabled-bg-color: #DDD;\n",
              "  }\n",
              "\n",
              "  [theme=dark] .colab-df-quickchart {\n",
              "      --bg-color: #3B4455;\n",
              "      --fill-color: #D2E3FC;\n",
              "      --hover-bg-color: #434B5C;\n",
              "      --hover-fill-color: #FFFFFF;\n",
              "      --disabled-bg-color: #3B4455;\n",
              "      --disabled-fill-color: #666;\n",
              "  }\n",
              "\n",
              "  .colab-df-quickchart {\n",
              "    background-color: var(--bg-color);\n",
              "    border: none;\n",
              "    border-radius: 50%;\n",
              "    cursor: pointer;\n",
              "    display: none;\n",
              "    fill: var(--fill-color);\n",
              "    height: 32px;\n",
              "    padding: 0;\n",
              "    width: 32px;\n",
              "  }\n",
              "\n",
              "  .colab-df-quickchart:hover {\n",
              "    background-color: var(--hover-bg-color);\n",
              "    box-shadow: 0 1px 2px rgba(60, 64, 67, 0.3), 0 1px 3px 1px rgba(60, 64, 67, 0.15);\n",
              "    fill: var(--button-hover-fill-color);\n",
              "  }\n",
              "\n",
              "  .colab-df-quickchart-complete:disabled,\n",
              "  .colab-df-quickchart-complete:disabled:hover {\n",
              "    background-color: var(--disabled-bg-color);\n",
              "    fill: var(--disabled-fill-color);\n",
              "    box-shadow: none;\n",
              "  }\n",
              "\n",
              "  .colab-df-spinner {\n",
              "    border: 2px solid var(--fill-color);\n",
              "    border-color: transparent;\n",
              "    border-bottom-color: var(--fill-color);\n",
              "    animation:\n",
              "      spin 1s steps(1) infinite;\n",
              "  }\n",
              "\n",
              "  @keyframes spin {\n",
              "    0% {\n",
              "      border-color: transparent;\n",
              "      border-bottom-color: var(--fill-color);\n",
              "      border-left-color: var(--fill-color);\n",
              "    }\n",
              "    20% {\n",
              "      border-color: transparent;\n",
              "      border-left-color: var(--fill-color);\n",
              "      border-top-color: var(--fill-color);\n",
              "    }\n",
              "    30% {\n",
              "      border-color: transparent;\n",
              "      border-left-color: var(--fill-color);\n",
              "      border-top-color: var(--fill-color);\n",
              "      border-right-color: var(--fill-color);\n",
              "    }\n",
              "    40% {\n",
              "      border-color: transparent;\n",
              "      border-right-color: var(--fill-color);\n",
              "      border-top-color: var(--fill-color);\n",
              "    }\n",
              "    60% {\n",
              "      border-color: transparent;\n",
              "      border-right-color: var(--fill-color);\n",
              "    }\n",
              "    80% {\n",
              "      border-color: transparent;\n",
              "      border-right-color: var(--fill-color);\n",
              "      border-bottom-color: var(--fill-color);\n",
              "    }\n",
              "    90% {\n",
              "      border-color: transparent;\n",
              "      border-bottom-color: var(--fill-color);\n",
              "    }\n",
              "  }\n",
              "</style>\n",
              "\n",
              "  <script>\n",
              "    async function quickchart(key) {\n",
              "      const quickchartButtonEl =\n",
              "        document.querySelector('#' + key + ' button');\n",
              "      quickchartButtonEl.disabled = true;  // To prevent multiple clicks.\n",
              "      quickchartButtonEl.classList.add('colab-df-spinner');\n",
              "      try {\n",
              "        const charts = await google.colab.kernel.invokeFunction(\n",
              "            'suggestCharts', [key], {});\n",
              "      } catch (error) {\n",
              "        console.error('Error during call to suggestCharts:', error);\n",
              "      }\n",
              "      quickchartButtonEl.classList.remove('colab-df-spinner');\n",
              "      quickchartButtonEl.classList.add('colab-df-quickchart-complete');\n",
              "    }\n",
              "    (() => {\n",
              "      let quickchartButtonEl =\n",
              "        document.querySelector('#df-311b9dfe-1e8c-4dc9-9f74-6e9aa471e74d button');\n",
              "      quickchartButtonEl.style.display =\n",
              "        google.colab.kernel.accessAllowed ? 'block' : 'none';\n",
              "    })();\n",
              "  </script>\n",
              "</div>\n",
              "    </div>\n",
              "  </div>\n"
            ]
          },
          "metadata": {},
          "execution_count": 40
        }
      ],
      "source": [
        "students['was_late'] = np.array([True, False, True, False, False])\n",
        "students"
      ]
    },
    {
      "cell_type": "markdown",
      "metadata": {
        "id": "jcvvWZBvLn7-"
      },
      "source": [
        "Pero el arry debe tener una forma de (n, ) o (1, n). No (n, 1). Lo que tiene un poco de sentido, porque eso es tratar de encajar una fila en una columna."
      ]
    },
    {
      "cell_type": "code",
      "execution_count": 41,
      "metadata": {
        "id": "revnt0EZLn7-",
        "outputId": "e8478571-0986-474b-ed64-73981f0d1f64",
        "colab": {
          "base_uri": "https://localhost:8080/",
          "height": 206
        }
      },
      "outputs": [
        {
          "output_type": "execute_result",
          "data": {
            "text/plain": [
              "          grade  height  was_late\n",
              "Angel        56     NaN      True\n",
              "Haden        90    38.0     False\n",
              "Michaela     89     NaN      True\n",
              "Stacy        78    36.0     False\n",
              "Tomas        45    34.0     False"
            ],
            "text/html": [
              "\n",
              "  <div id=\"df-7a908c6d-f610-4eae-8c07-f54490113599\" class=\"colab-df-container\">\n",
              "    <div>\n",
              "<style scoped>\n",
              "    .dataframe tbody tr th:only-of-type {\n",
              "        vertical-align: middle;\n",
              "    }\n",
              "\n",
              "    .dataframe tbody tr th {\n",
              "        vertical-align: top;\n",
              "    }\n",
              "\n",
              "    .dataframe thead th {\n",
              "        text-align: right;\n",
              "    }\n",
              "</style>\n",
              "<table border=\"1\" class=\"dataframe\">\n",
              "  <thead>\n",
              "    <tr style=\"text-align: right;\">\n",
              "      <th></th>\n",
              "      <th>grade</th>\n",
              "      <th>height</th>\n",
              "      <th>was_late</th>\n",
              "    </tr>\n",
              "  </thead>\n",
              "  <tbody>\n",
              "    <tr>\n",
              "      <th>Angel</th>\n",
              "      <td>56</td>\n",
              "      <td>NaN</td>\n",
              "      <td>True</td>\n",
              "    </tr>\n",
              "    <tr>\n",
              "      <th>Haden</th>\n",
              "      <td>90</td>\n",
              "      <td>38.0</td>\n",
              "      <td>False</td>\n",
              "    </tr>\n",
              "    <tr>\n",
              "      <th>Michaela</th>\n",
              "      <td>89</td>\n",
              "      <td>NaN</td>\n",
              "      <td>True</td>\n",
              "    </tr>\n",
              "    <tr>\n",
              "      <th>Stacy</th>\n",
              "      <td>78</td>\n",
              "      <td>36.0</td>\n",
              "      <td>False</td>\n",
              "    </tr>\n",
              "    <tr>\n",
              "      <th>Tomas</th>\n",
              "      <td>45</td>\n",
              "      <td>34.0</td>\n",
              "      <td>False</td>\n",
              "    </tr>\n",
              "  </tbody>\n",
              "</table>\n",
              "</div>\n",
              "    <div class=\"colab-df-buttons\">\n",
              "\n",
              "  <div class=\"colab-df-container\">\n",
              "    <button class=\"colab-df-convert\" onclick=\"convertToInteractive('df-7a908c6d-f610-4eae-8c07-f54490113599')\"\n",
              "            title=\"Convert this dataframe to an interactive table.\"\n",
              "            style=\"display:none;\">\n",
              "\n",
              "  <svg xmlns=\"http://www.w3.org/2000/svg\" height=\"24px\" viewBox=\"0 -960 960 960\">\n",
              "    <path d=\"M120-120v-720h720v720H120Zm60-500h600v-160H180v160Zm220 220h160v-160H400v160Zm0 220h160v-160H400v160ZM180-400h160v-160H180v160Zm440 0h160v-160H620v160ZM180-180h160v-160H180v160Zm440 0h160v-160H620v160Z\"/>\n",
              "  </svg>\n",
              "    </button>\n",
              "\n",
              "  <style>\n",
              "    .colab-df-container {\n",
              "      display:flex;\n",
              "      gap: 12px;\n",
              "    }\n",
              "\n",
              "    .colab-df-convert {\n",
              "      background-color: #E8F0FE;\n",
              "      border: none;\n",
              "      border-radius: 50%;\n",
              "      cursor: pointer;\n",
              "      display: none;\n",
              "      fill: #1967D2;\n",
              "      height: 32px;\n",
              "      padding: 0 0 0 0;\n",
              "      width: 32px;\n",
              "    }\n",
              "\n",
              "    .colab-df-convert:hover {\n",
              "      background-color: #E2EBFA;\n",
              "      box-shadow: 0px 1px 2px rgba(60, 64, 67, 0.3), 0px 1px 3px 1px rgba(60, 64, 67, 0.15);\n",
              "      fill: #174EA6;\n",
              "    }\n",
              "\n",
              "    .colab-df-buttons div {\n",
              "      margin-bottom: 4px;\n",
              "    }\n",
              "\n",
              "    [theme=dark] .colab-df-convert {\n",
              "      background-color: #3B4455;\n",
              "      fill: #D2E3FC;\n",
              "    }\n",
              "\n",
              "    [theme=dark] .colab-df-convert:hover {\n",
              "      background-color: #434B5C;\n",
              "      box-shadow: 0px 1px 3px 1px rgba(0, 0, 0, 0.15);\n",
              "      filter: drop-shadow(0px 1px 2px rgba(0, 0, 0, 0.3));\n",
              "      fill: #FFFFFF;\n",
              "    }\n",
              "  </style>\n",
              "\n",
              "    <script>\n",
              "      const buttonEl =\n",
              "        document.querySelector('#df-7a908c6d-f610-4eae-8c07-f54490113599 button.colab-df-convert');\n",
              "      buttonEl.style.display =\n",
              "        google.colab.kernel.accessAllowed ? 'block' : 'none';\n",
              "\n",
              "      async function convertToInteractive(key) {\n",
              "        const element = document.querySelector('#df-7a908c6d-f610-4eae-8c07-f54490113599');\n",
              "        const dataTable =\n",
              "          await google.colab.kernel.invokeFunction('convertToInteractive',\n",
              "                                                    [key], {});\n",
              "        if (!dataTable) return;\n",
              "\n",
              "        const docLinkHtml = 'Like what you see? Visit the ' +\n",
              "          '<a target=\"_blank\" href=https://colab.research.google.com/notebooks/data_table.ipynb>data table notebook</a>'\n",
              "          + ' to learn more about interactive tables.';\n",
              "        element.innerHTML = '';\n",
              "        dataTable['output_type'] = 'display_data';\n",
              "        await google.colab.output.renderOutput(dataTable, element);\n",
              "        const docLink = document.createElement('div');\n",
              "        docLink.innerHTML = docLinkHtml;\n",
              "        element.appendChild(docLink);\n",
              "      }\n",
              "    </script>\n",
              "  </div>\n",
              "\n",
              "\n",
              "<div id=\"df-e8d8a9fd-a5c8-446b-99a6-b7cb5497e832\">\n",
              "  <button class=\"colab-df-quickchart\" onclick=\"quickchart('df-e8d8a9fd-a5c8-446b-99a6-b7cb5497e832')\"\n",
              "            title=\"Suggest charts.\"\n",
              "            style=\"display:none;\">\n",
              "\n",
              "<svg xmlns=\"http://www.w3.org/2000/svg\" height=\"24px\"viewBox=\"0 0 24 24\"\n",
              "     width=\"24px\">\n",
              "    <g>\n",
              "        <path d=\"M19 3H5c-1.1 0-2 .9-2 2v14c0 1.1.9 2 2 2h14c1.1 0 2-.9 2-2V5c0-1.1-.9-2-2-2zM9 17H7v-7h2v7zm4 0h-2V7h2v10zm4 0h-2v-4h2v4z\"/>\n",
              "    </g>\n",
              "</svg>\n",
              "  </button>\n",
              "\n",
              "<style>\n",
              "  .colab-df-quickchart {\n",
              "      --bg-color: #E8F0FE;\n",
              "      --fill-color: #1967D2;\n",
              "      --hover-bg-color: #E2EBFA;\n",
              "      --hover-fill-color: #174EA6;\n",
              "      --disabled-fill-color: #AAA;\n",
              "      --disabled-bg-color: #DDD;\n",
              "  }\n",
              "\n",
              "  [theme=dark] .colab-df-quickchart {\n",
              "      --bg-color: #3B4455;\n",
              "      --fill-color: #D2E3FC;\n",
              "      --hover-bg-color: #434B5C;\n",
              "      --hover-fill-color: #FFFFFF;\n",
              "      --disabled-bg-color: #3B4455;\n",
              "      --disabled-fill-color: #666;\n",
              "  }\n",
              "\n",
              "  .colab-df-quickchart {\n",
              "    background-color: var(--bg-color);\n",
              "    border: none;\n",
              "    border-radius: 50%;\n",
              "    cursor: pointer;\n",
              "    display: none;\n",
              "    fill: var(--fill-color);\n",
              "    height: 32px;\n",
              "    padding: 0;\n",
              "    width: 32px;\n",
              "  }\n",
              "\n",
              "  .colab-df-quickchart:hover {\n",
              "    background-color: var(--hover-bg-color);\n",
              "    box-shadow: 0 1px 2px rgba(60, 64, 67, 0.3), 0 1px 3px 1px rgba(60, 64, 67, 0.15);\n",
              "    fill: var(--button-hover-fill-color);\n",
              "  }\n",
              "\n",
              "  .colab-df-quickchart-complete:disabled,\n",
              "  .colab-df-quickchart-complete:disabled:hover {\n",
              "    background-color: var(--disabled-bg-color);\n",
              "    fill: var(--disabled-fill-color);\n",
              "    box-shadow: none;\n",
              "  }\n",
              "\n",
              "  .colab-df-spinner {\n",
              "    border: 2px solid var(--fill-color);\n",
              "    border-color: transparent;\n",
              "    border-bottom-color: var(--fill-color);\n",
              "    animation:\n",
              "      spin 1s steps(1) infinite;\n",
              "  }\n",
              "\n",
              "  @keyframes spin {\n",
              "    0% {\n",
              "      border-color: transparent;\n",
              "      border-bottom-color: var(--fill-color);\n",
              "      border-left-color: var(--fill-color);\n",
              "    }\n",
              "    20% {\n",
              "      border-color: transparent;\n",
              "      border-left-color: var(--fill-color);\n",
              "      border-top-color: var(--fill-color);\n",
              "    }\n",
              "    30% {\n",
              "      border-color: transparent;\n",
              "      border-left-color: var(--fill-color);\n",
              "      border-top-color: var(--fill-color);\n",
              "      border-right-color: var(--fill-color);\n",
              "    }\n",
              "    40% {\n",
              "      border-color: transparent;\n",
              "      border-right-color: var(--fill-color);\n",
              "      border-top-color: var(--fill-color);\n",
              "    }\n",
              "    60% {\n",
              "      border-color: transparent;\n",
              "      border-right-color: var(--fill-color);\n",
              "    }\n",
              "    80% {\n",
              "      border-color: transparent;\n",
              "      border-right-color: var(--fill-color);\n",
              "      border-bottom-color: var(--fill-color);\n",
              "    }\n",
              "    90% {\n",
              "      border-color: transparent;\n",
              "      border-bottom-color: var(--fill-color);\n",
              "    }\n",
              "  }\n",
              "</style>\n",
              "\n",
              "  <script>\n",
              "    async function quickchart(key) {\n",
              "      const quickchartButtonEl =\n",
              "        document.querySelector('#' + key + ' button');\n",
              "      quickchartButtonEl.disabled = true;  // To prevent multiple clicks.\n",
              "      quickchartButtonEl.classList.add('colab-df-spinner');\n",
              "      try {\n",
              "        const charts = await google.colab.kernel.invokeFunction(\n",
              "            'suggestCharts', [key], {});\n",
              "      } catch (error) {\n",
              "        console.error('Error during call to suggestCharts:', error);\n",
              "      }\n",
              "      quickchartButtonEl.classList.remove('colab-df-spinner');\n",
              "      quickchartButtonEl.classList.add('colab-df-quickchart-complete');\n",
              "    }\n",
              "    (() => {\n",
              "      let quickchartButtonEl =\n",
              "        document.querySelector('#df-e8d8a9fd-a5c8-446b-99a6-b7cb5497e832 button');\n",
              "      quickchartButtonEl.style.display =\n",
              "        google.colab.kernel.accessAllowed ? 'block' : 'none';\n",
              "    })();\n",
              "  </script>\n",
              "</div>\n",
              "    </div>\n",
              "  </div>\n"
            ]
          },
          "metadata": {},
          "execution_count": 41
        }
      ],
      "source": [
        "students['was_late'] = np.array([True, False, True, False, False]).reshape(-1,1)\n",
        "students"
      ]
    },
    {
      "cell_type": "markdown",
      "metadata": {
        "id": "xzHAV6lXLn7-"
      },
      "source": [
        "[texto del enlace](https://)```python\n",
        "# Esto debe dar un error\n",
        "students['was_late'] = np.array([True, False, True, False, False]).reshape(1,-1)\n",
        "students\n",
        "```"
      ]
    },
    {
      "cell_type": "markdown",
      "metadata": {
        "id": "CV-Y7vwOLn7-"
      },
      "source": [
        "### 13.- Agregar la columna 'top_crush' a 'students'. El cual es el nombre del crush de cada estudiante\n",
        "\n",
        "```python\n",
        "> print(students)\n",
        "\n",
        "          grade  height  was_late     top_crush\n",
        "Tomas        45      34      True         Angel\n",
        "Angel        56      35     False         Haden\n",
        "Stacy        78      36      True      Michaela\n",
        "Michaela     89      37     False         Tomas\n",
        "Haden        90      38     False  Edgar A. Poe\n",
        "```"
      ]
    },
    {
      "cell_type": "code",
      "execution_count": null,
      "metadata": {
        "id": "77RcL-HuLn7_"
      },
      "outputs": [],
      "source": [
        "\n",
        "\n"
      ]
    },
    {
      "cell_type": "markdown",
      "metadata": {
        "id": "VYfwYVSYLn7_"
      },
      "source": [
        "## Proyección"
      ]
    },
    {
      "cell_type": "markdown",
      "metadata": {
        "id": "wVTcUGSeLn7_"
      },
      "source": [
        "Al igual que en numpy, es posible hacer una proyección de una serie"
      ]
    },
    {
      "cell_type": "code",
      "execution_count": null,
      "metadata": {
        "id": "88PSXfU_Ln7_"
      },
      "outputs": [],
      "source": [
        "students['grade']>75"
      ]
    },
    {
      "cell_type": "markdown",
      "metadata": {
        "id": "ULhk2msPLn7_"
      },
      "source": [
        "Para crear la columna 'above_75_percent'"
      ]
    },
    {
      "cell_type": "code",
      "execution_count": null,
      "metadata": {
        "id": "G67B8C5lLn7_"
      },
      "outputs": [],
      "source": [
        "students['above_75_percent'] = students['grade']>75\n",
        "students"
      ]
    },
    {
      "cell_type": "markdown",
      "metadata": {
        "id": "zNW7kvYzLn7_"
      },
      "source": [
        "Este tipo de proyecciones resultan de gran utilidad."
      ]
    },
    {
      "cell_type": "markdown",
      "metadata": {
        "id": "OOdIibIrLn7_"
      },
      "source": [
        "### 14.- Agregar la columna 'taller_than_35' a students\n",
        "\n",
        "```python\n",
        "> print(students[['grade', 'height', 'taller_than_35']])\n",
        "\n",
        "          grade  height  taller_than_35\n",
        "Tomas        45      34           False\n",
        "Angel        56      35           False\n",
        "Stacy        78      36            True\n",
        "Michaela     89      37            True\n",
        "Haden        90      38            True\n",
        "```"
      ]
    },
    {
      "cell_type": "code",
      "execution_count": null,
      "metadata": {
        "id": "-vSyBKw2Ln7_"
      },
      "outputs": [],
      "source": [
        "#Código:\n",
        "\n"
      ]
    },
    {
      "cell_type": "markdown",
      "metadata": {
        "id": "z55b6FZxLn7_"
      },
      "source": [
        "Los elementos se emparejan por **index**."
      ]
    },
    {
      "cell_type": "markdown",
      "metadata": {
        "id": "7lFw-qdCLn8A"
      },
      "source": [
        "## Índices"
      ]
    },
    {
      "cell_type": "code",
      "execution_count": null,
      "metadata": {
        "id": "ff3hripsLn8A"
      },
      "outputs": [],
      "source": [
        "df = pd.DataFrame(\n",
        "    [[1, 2, 3], [4, 5, 6]],\n",
        "    columns=['a', 'b', 'c'],\n",
        "    index=['foo', 'bar'])"
      ]
    },
    {
      "cell_type": "code",
      "execution_count": null,
      "metadata": {
        "id": "5uhGSHphLn8A"
      },
      "outputs": [],
      "source": [
        "# El índice está invertido\n",
        "df['d'] = pd.Series([4, 5], index=['bar', 'foo'])\n",
        "df"
      ]
    },
    {
      "cell_type": "markdown",
      "metadata": {
        "id": "ZDj_Cs-6Ln8A"
      },
      "source": [
        "Si el índice no coincide el valor se convierte en NaN"
      ]
    },
    {
      "cell_type": "code",
      "execution_count": null,
      "metadata": {
        "id": "Mte6iIeNLn8A"
      },
      "outputs": [],
      "source": [
        "df['d'] = pd.Series([4, 5], index=['bar', 'baz'])\n",
        "df"
      ]
    },
    {
      "cell_type": "markdown",
      "metadata": {
        "id": "WNt1P3MlLn8A"
      },
      "source": [
        "Al agregar una lista o vector en un DataFrame sin índice la columna se inserta en orden"
      ]
    },
    {
      "cell_type": "code",
      "execution_count": null,
      "metadata": {
        "id": "o70IhnqNLn8A"
      },
      "outputs": [],
      "source": [
        "df['e'] = [1, 2]\n",
        "df"
      ]
    },
    {
      "cell_type": "markdown",
      "metadata": {
        "id": "irnpWfWnLn8A"
      },
      "source": [
        "Utilizando una Serie se debe tener cuidado ya que si no existe un índice, todos los valores se convierten a NaN"
      ]
    },
    {
      "cell_type": "code",
      "execution_count": null,
      "metadata": {
        "scrolled": true,
        "id": "B68iHUMALn8A"
      },
      "outputs": [],
      "source": [
        "students['was_late'] = pd.Series([True, False, True, False, False])\n",
        "students"
      ]
    },
    {
      "cell_type": "markdown",
      "metadata": {
        "id": "skjAPg0TLn8A"
      },
      "source": [
        "Agregar el índice:"
      ]
    },
    {
      "cell_type": "code",
      "execution_count": null,
      "metadata": {
        "id": "1i-rfo41Ln8B"
      },
      "outputs": [],
      "source": [
        "students['was_late'] = pd.Series([True, False, True, False, False], index=students.index)\n",
        "students"
      ]
    },
    {
      "cell_type": "markdown",
      "metadata": {
        "id": "R_r6jtuULn8B"
      },
      "source": [
        "### 15.- Crear el  dataframe 'numbers' con la columna `increasing`, la cual contenga numeros de 1-50 en este orden. Después, insertar una columna `evens`, que contenga solo números pares si el número es par en `increasing`\n",
        "\n",
        "```python\n",
        "> print(numbers)\n",
        "\n",
        "    increasing  evens\n",
        "0            0    0.0\n",
        "1            1    NaN\n",
        "2            2    2.0\n",
        "3            3    NaN\n",
        "4            4    4.0\n",
        "5            5    NaN\n",
        "6            6    6.0\n",
        "7            7    NaN\n",
        "8            8    8.0\n",
        "9            9    NaN\n",
        "10          10   10.0\n",
        ".            .      .\n",
        ".            .      .\n",
        ".            .      .\n",
        "\n",
        "```"
      ]
    },
    {
      "cell_type": "code",
      "execution_count": null,
      "metadata": {
        "id": "XZxTmkovLn8B"
      },
      "outputs": [],
      "source": [
        "#Código:\n",
        "\n"
      ]
    },
    {
      "cell_type": "markdown",
      "metadata": {
        "id": "LNSQhze6Ln8B"
      },
      "source": [
        "### 16.- Agregar la siguiente información en una columna 'pickup_time'\n",
        "\n",
        "Haden = 4,\n",
        "Tomas = 5,\n",
        "Stacy = 3\n",
        "\n",
        "\n",
        "```python\n",
        "> print(students[['grade', 'height', 'pickup_time']])\n",
        "\n",
        "          grade  height  pickup_time\n",
        "Tomas        45      34          5.0\n",
        "Angel        56      35          NaN\n",
        "Stacy        78      36          3.0\n",
        "Michaela     89      37          NaN\n",
        "Haden        90      38          4.0\n",
        "\n",
        "```"
      ]
    },
    {
      "cell_type": "code",
      "execution_count": null,
      "metadata": {
        "id": "kDlPNhPLLn8B"
      },
      "outputs": [],
      "source": [
        "#Código:\n",
        "\n"
      ]
    },
    {
      "cell_type": "markdown",
      "metadata": {
        "id": "bbfeTVbULn8B"
      },
      "source": [
        "### 17.- Agregar la siguiente informaión para los primeros tres estudiantes, el resto puede ser NaN\n",
        "\n",
        "4,5,3\n",
        "\n",
        "\n",
        "```python\n",
        "> print(students[['grade', 'height', 'pickup_time']])\n",
        "\n",
        "          grade  height  pickup_time\n",
        "Tomas        45      34          4.0\n",
        "Angel        56      35          5.0\n",
        "Stacy        78      36          2.0\n",
        "Michaela     89      37          NaN\n",
        "Haden        90      38          NaN\n",
        "\n",
        "```\n",
        "\n",
        "(NaN is input as np.NaN)"
      ]
    },
    {
      "cell_type": "code",
      "execution_count": null,
      "metadata": {
        "id": "hY0I4w6oLn8B"
      },
      "outputs": [],
      "source": [
        "#Código:\n",
        "\n"
      ]
    },
    {
      "cell_type": "markdown",
      "metadata": {
        "id": "QfkIugImLn8B"
      },
      "source": [
        "## Carga de información"
      ]
    },
    {
      "cell_type": "markdown",
      "metadata": {
        "id": "kzCPof0NLn8C"
      },
      "source": [
        "Para cargar información externa en Pandas primero debemos localizarla"
      ]
    },
    {
      "cell_type": "markdown",
      "metadata": {
        "id": "X6ktMgmCLn8C"
      },
      "source": [
        "El comando 'ls' es de ayuda para esto"
      ]
    },
    {
      "cell_type": "code",
      "execution_count": null,
      "metadata": {
        "id": "YKplO8FQLn8C"
      },
      "outputs": [],
      "source": [
        "ls"
      ]
    },
    {
      "cell_type": "markdown",
      "metadata": {
        "id": "tzAA9EkJLn8C"
      },
      "source": [
        "probablemente se encuentre en 'data/'"
      ]
    },
    {
      "cell_type": "code",
      "execution_count": null,
      "metadata": {
        "id": "Pj8GhUtPLn8C"
      },
      "outputs": [],
      "source": [
        "ls data"
      ]
    },
    {
      "cell_type": "markdown",
      "metadata": {
        "id": "gPanFdcFLn8C"
      },
      "source": [
        "Pandas puede cargar csv, aunque algunas veces el csv no está separado por comas. Revisemos lo que está dentro de playgolf.csv"
      ]
    },
    {
      "cell_type": "code",
      "execution_count": null,
      "metadata": {
        "id": "aGbVj4YiLn8C"
      },
      "outputs": [],
      "source": [
        "# '!' significa que estamos ejecutando un comando de bash\n",
        "!head -1 data/playgolf.csv"
      ]
    },
    {
      "cell_type": "code",
      "execution_count": null,
      "metadata": {
        "id": "gIVkGe-1Ln8C"
      },
      "outputs": [],
      "source": [
        "!head -1 data/playgolf.csv"
      ]
    },
    {
      "cell_type": "markdown",
      "metadata": {
        "id": "x1Z_VJ8gLn8C"
      },
      "source": [
        "###  Cargar datos desde csv\n",
        "\n",
        "Un csv (valores separados por comas) es un formato de archivo utilizado para almacenar datos separados por un **delimitador**.\n",
        "\n",
        "Un delimitador es el **carácter único** que divide los elementos de datos en un archivo.  La coma es una opción tradicional de delimitador, pero relativamente pobre porque a menudo forma parte de los propios elementos.  Las mejores opciones son el pipe (`|`) y el tabulador (`\\t`)."
      ]
    },
    {
      "cell_type": "markdown",
      "metadata": {
        "id": "jPViDN6ZLn8C"
      },
      "source": [
        "En un extraño giro de la historia, los archivos separados por comas a menudo se separan con caracteres diferentes a las comas.  No hay una convención consistente de usar una extensión de archivo diferente, pero algunas personas usan `.psv` o `.tsv`.\n",
        "\n",
        "Pandas tiene una función `read_csv` que carga un fichero delimitado en un `DataFrame`.  "
      ]
    },
    {
      "cell_type": "code",
      "execution_count": null,
      "metadata": {
        "id": "35KBTq9eLn8C"
      },
      "outputs": [],
      "source": [
        "golf_df = pd.read_csv('data/playgolf.csv', delimiter=',')"
      ]
    },
    {
      "cell_type": "code",
      "execution_count": null,
      "metadata": {
        "id": "SB0fNKuSLn8D"
      },
      "outputs": [],
      "source": [
        "golf_df"
      ]
    },
    {
      "cell_type": "markdown",
      "metadata": {
        "id": "fNrPzJsiLn8D"
      },
      "source": [
        "### 18.- Cargar hospital-costs.csv como 'hospital_costs'.\n"
      ]
    },
    {
      "cell_type": "code",
      "execution_count": null,
      "metadata": {
        "id": "mPGIDq77Ln8D"
      },
      "outputs": [],
      "source": [
        "#Código:\n",
        "\n"
      ]
    },
    {
      "cell_type": "markdown",
      "metadata": {
        "id": "VSIZVHXXLn8D"
      },
      "source": [
        "### 19.- Cargar winnequality-white.csv como 'wine_quality_white'."
      ]
    },
    {
      "cell_type": "code",
      "execution_count": null,
      "metadata": {
        "id": "sXO7HjmALn8D"
      },
      "outputs": [],
      "source": [
        "#Código:\n",
        "\n"
      ]
    },
    {
      "cell_type": "markdown",
      "metadata": {
        "id": "s72o2WsoLn8D"
      },
      "source": [
        "## Extraer información del DataFrame"
      ]
    },
    {
      "cell_type": "markdown",
      "metadata": {
        "id": "NtGUMWXyLn8D"
      },
      "source": [
        "#### Índices de Fila y Columna"
      ]
    },
    {
      "cell_type": "markdown",
      "metadata": {
        "id": "YAjFAsR4Ln8D"
      },
      "source": [
        "Como hemos visto, se pueden extraer columnas individuales de un `DataFrame` como una `Serie` utilizando la indexación habitual de estilo `__getitem__` utilizando el nombre de la columna.  \n",
        "\n",
        "Esto es similar a cómo indexamos un diccionario."
      ]
    },
    {
      "cell_type": "code",
      "execution_count": null,
      "metadata": {
        "id": "KCvVxEklLn8D"
      },
      "outputs": [],
      "source": [
        "golf_df['Temperature']"
      ]
    },
    {
      "cell_type": "markdown",
      "metadata": {
        "id": "Yvs2nSJZLn8D"
      },
      "source": [
        "Para extraer valores individuales"
      ]
    },
    {
      "cell_type": "code",
      "execution_count": null,
      "metadata": {
        "id": "yQ246puSLn8D"
      },
      "outputs": [],
      "source": [
        "golf_df['Temperature'][0]"
      ]
    },
    {
      "cell_type": "markdown",
      "metadata": {
        "id": "ArLr4e5_Ln8D"
      },
      "source": [
        "Para extraer múltiples columnas"
      ]
    },
    {
      "cell_type": "code",
      "execution_count": null,
      "metadata": {
        "id": "yrtvFiSlLn8E"
      },
      "outputs": [],
      "source": [
        "golf_df[['Temperature', 'Humidity']]"
      ]
    },
    {
      "cell_type": "markdown",
      "metadata": {
        "id": "aEW6A4zVLn8E"
      },
      "source": [
        "Para extraer un número limitado de filas"
      ]
    },
    {
      "cell_type": "code",
      "execution_count": null,
      "metadata": {
        "id": "ZWEeW6rYLn8E"
      },
      "outputs": [],
      "source": [
        "short_df = golf_df[0:5]\n",
        "short_df"
      ]
    },
    {
      "cell_type": "markdown",
      "metadata": {
        "id": "_pAXrBBvLn8E"
      },
      "source": [
        "### 20.- Extraer las columnas Facility Id, Year, Discharges, and Mean Charge de hospital_costs\n",
        "\n",
        "```python\n",
        "        Facility Id  Year  Discharges  Mean Charge\n",
        "0               324  2011           3     361289.0\n",
        "1               324  2011           1     102190.0\n",
        "2               324  2011           6      14172.0\n",
        "3               324  2011           1       8833.0\n",
        "4               324  2011           1       5264.0\n",
        "...             ...   ...         ...          ...\n",
        "383488         1153  2009           5      13572.0\n",
        "383489         1153  2009           4       8323.0\n",
        "383490         1153  2009           5       7746.0\n",
        "383491         1153  2009           1       7892.0\n",
        "383492         1153  2009           3       1069.0\n",
        "```"
      ]
    },
    {
      "cell_type": "code",
      "execution_count": null,
      "metadata": {
        "id": "E1zHwDxtLn8E"
      },
      "outputs": [],
      "source": [
        "#Código:\n",
        "\n"
      ]
    },
    {
      "cell_type": "markdown",
      "metadata": {
        "id": "z15fw-l6Ln8E"
      },
      "source": [
        "## Índie Booleano / Logico"
      ]
    },
    {
      "cell_type": "markdown",
      "metadata": {
        "id": "lnmkx-fgLn8E"
      },
      "source": [
        "También podemos indexar un `DataFrame` utilizando una lista de **booleanos** (es decir, valores `True` y `False`). Esto también operará sobre las filas."
      ]
    },
    {
      "cell_type": "code",
      "execution_count": null,
      "metadata": {
        "id": "GsETng9PLn8E"
      },
      "outputs": [],
      "source": [
        "# Filas 0, 2, y 4.\n",
        "short_df[[True, False, True, False, True]]"
      ]
    },
    {
      "cell_type": "markdown",
      "metadata": {
        "id": "BgVyVwTrLn8E"
      },
      "source": [
        "Es de utilidad para crear `Series` booleanas a partir de una comparación"
      ]
    },
    {
      "cell_type": "code",
      "execution_count": null,
      "metadata": {
        "id": "JaT2o68gLn8E"
      },
      "outputs": [],
      "source": [
        "# A series of booleans.\n",
        "golf_df['Temperature'] > 70"
      ]
    },
    {
      "cell_type": "markdown",
      "metadata": {
        "id": "v15ivhpLLn8E"
      },
      "source": [
        "Y después elegir las columnas del DataFrame"
      ]
    },
    {
      "cell_type": "code",
      "execution_count": null,
      "metadata": {
        "id": "Y7jfAG_iLn8F"
      },
      "outputs": [],
      "source": [
        "golf_df[golf_df['Temperature'] > 70][[\"Date\", \"Windy\"]]"
      ]
    },
    {
      "cell_type": "markdown",
      "metadata": {
        "id": "ZzqRKPbQLn8F"
      },
      "source": [
        "Esto es esencialmente aplicar una condición lógica para seleccionar filas de un `DataFrame`.  Este es uno de los patrones más comunes en Pandas."
      ]
    },
    {
      "cell_type": "markdown",
      "metadata": {
        "id": "z358WHUxLn8F"
      },
      "source": [
        "Para repasar: si indexas un `DataFrame` con un **valor único** o una **lista de valores**, selecciona las **columnas**.\n",
        "\n",
        "Si utilizas un **corte** o una **secuencia de booleanos**, selecciona las **filas**."
      ]
    },
    {
      "cell_type": "markdown",
      "metadata": {
        "id": "WP48WLK7Ln8F"
      },
      "source": [
        "### 21.- Seleccionar los días en que la humedad es mayor a 90 en 'golf_df'.\n",
        "\n",
        "```python\n",
        "     Date Outlook  Temperature  Humidity  Windy      Result\n",
        "3  7/4/14    rain           70        96  False        Play\n",
        "7  7/8/14   sunny           72        95  False  Don't Play\n",
        "```"
      ]
    },
    {
      "cell_type": "code",
      "execution_count": null,
      "metadata": {
        "id": "cXYsdG93Ln8F"
      },
      "outputs": [],
      "source": [
        "#Código:\n",
        "\n"
      ]
    },
    {
      "cell_type": "markdown",
      "metadata": {
        "id": "4VPGcHmyLn8F"
      },
      "source": [
        "## Operadores lógicos"
      ]
    },
    {
      "cell_type": "code",
      "execution_count": null,
      "metadata": {
        "id": "hOFghDUFLn8F"
      },
      "outputs": [],
      "source": [
        "(golf_df['Humidity']>90) | (golf_df['Outlook']==\"Sunny\") # '|' es 'OR'"
      ]
    },
    {
      "cell_type": "code",
      "execution_count": null,
      "metadata": {
        "id": "RzKmjSu_Ln8G"
      },
      "outputs": [],
      "source": [
        "(golf_df['Result']==\"Don't Play\") & golf_df['Windy'] # '&' es 'AND'"
      ]
    },
    {
      "cell_type": "markdown",
      "metadata": {
        "id": "wuA80FHELn8G"
      },
      "source": [
        "### 22.- Seleccionar los días lluviosos con una temperatura menor a 70 grados en 'play_golf'"
      ]
    },
    {
      "cell_type": "code",
      "execution_count": null,
      "metadata": {
        "id": "6vkTOWxTLn8G"
      },
      "outputs": [],
      "source": [
        "#Código:\n",
        "\n"
      ]
    },
    {
      "cell_type": "markdown",
      "metadata": {
        "id": "bVoMyVGBLn8G"
      },
      "source": [
        "### 23.- Seleccionar la fecha y el resultado de los días lluviosos en que la humedad es mayor a 90 en 'play_golf'\n",
        "\n",
        "```python\n",
        "     Date Result\n",
        "3  7/4/14   Play\n",
        "```"
      ]
    },
    {
      "cell_type": "code",
      "execution_count": null,
      "metadata": {
        "id": "Mzi-GdLvLn8G"
      },
      "outputs": [],
      "source": [
        "#Código:\n"
      ]
    },
    {
      "cell_type": "markdown",
      "metadata": {
        "id": "yjNoJiWdLn8H"
      },
      "source": [
        "## Doble índice"
      ]
    },
    {
      "cell_type": "markdown",
      "metadata": {
        "id": "wKb_g_1ELn8H"
      },
      "source": [
        "Supongamos que queremos establecer el valor de la columna `Windy` donde `Temperature > 70` como True."
      ]
    },
    {
      "cell_type": "code",
      "execution_count": null,
      "metadata": {
        "id": "kB1hkUBMLn8H"
      },
      "outputs": [],
      "source": [
        "golf_df[golf_df['Temperature'] > 70][\"Windy\"] = True"
      ]
    },
    {
      "cell_type": "markdown",
      "metadata": {
        "id": "3Soe2VNMLn8H"
      },
      "source": [
        "Vaya, un error"
      ]
    },
    {
      "cell_type": "code",
      "execution_count": null,
      "metadata": {
        "id": "2mFtCGmoLn8H"
      },
      "outputs": [],
      "source": [
        "golf_df[golf_df['Temperature'] > 70][\"Windy\"]"
      ]
    },
    {
      "cell_type": "markdown",
      "metadata": {
        "id": "0-Cnr-hkLn8H"
      },
      "source": [
        "Al parecer, aún es Falso"
      ]
    },
    {
      "cell_type": "markdown",
      "metadata": {
        "id": "G-u_klZrLn8H"
      },
      "source": [
        "Este patrón se llama doble indexación, ¡y es un antipatrón!  ¡Pandas no puede garantizar que las asignaciones se mantengan cuando se indexa dos veces!\n",
        "\n",
        "Para solucionar estos problemas, tenemos que estudiar las otras opciones de indexación que proporciona Pandas."
      ]
    },
    {
      "cell_type": "markdown",
      "metadata": {
        "id": "AT7kv7XyLn8H"
      },
      "source": [
        "#### .loc e .iloc"
      ]
    },
    {
      "cell_type": "markdown",
      "metadata": {
        "id": "tj2Z0riGLn8H"
      },
      "source": [
        "Hay algunos otros objetos de indexación en pandas, los cuales toman un valor para elegir las filas y un valor para elegir las columnas.\n",
        "\n",
        "  - `df.iloc` está **basado en la posición**.  Este indexador acepta enteros y trozos de enteros, y esencialmente trata el marco de datos como si fuera una simple matriz.\n",
        "  - `df.loc` está **basado en etiquetas**.  Este indexador trabaja con índices/etiquetas de filas y columnas."
      ]
    },
    {
      "cell_type": "code",
      "execution_count": null,
      "metadata": {
        "id": "MoT_5fi4Ln8I"
      },
      "outputs": [],
      "source": [
        "df = pd.DataFrame({\n",
        "    'some_integers': [0, 0, 1, 1, 2, 2],\n",
        "    'some_strings': ['x', 'y', 'z', 'x', 'y', 'z'],\n",
        "    'some_booleans': [0, 0, 1, 0, 1, 1]},\n",
        "    index=['a', 'b', 'c', 'd', 'e', 'f']\n",
        ")\n",
        "df"
      ]
    },
    {
      "cell_type": "code",
      "execution_count": null,
      "metadata": {
        "id": "FvQDWpWGLn8I"
      },
      "outputs": [],
      "source": [
        "df.iloc[2:4, 0:2]"
      ]
    },
    {
      "cell_type": "code",
      "execution_count": null,
      "metadata": {
        "id": "qLhKVMz-Ln8I"
      },
      "outputs": [],
      "source": [
        "df.loc['b':'e', ['some_integers', 'some_booleans']]"
      ]
    },
    {
      "cell_type": "markdown",
      "metadata": {
        "id": "lTwbcWVdLn8I"
      },
      "source": [
        "### 24.- Seleccionar las filas a,b,c, y f\n",
        "\n",
        "```python\n",
        "   some_integers some_strings  some_booleans\n",
        "a              0            x              0\n",
        "b              0            y              0\n",
        "c              1            z              1\n",
        "f              2            z              1\n",
        "```"
      ]
    },
    {
      "cell_type": "code",
      "execution_count": null,
      "metadata": {
        "id": "Ih2tVp1vLn8I"
      },
      "outputs": [],
      "source": [
        "#Código:\n",
        "\n"
      ]
    },
    {
      "cell_type": "markdown",
      "metadata": {
        "id": "u2GUdYXRLn8I"
      },
      "source": [
        "### 25.- Seleccionar la fila 0, 1a y 5a\n",
        "\n",
        "```python\n",
        "   some_integers some_strings  some_booleans\n",
        "a              0            x              0\n",
        "b              0            y              0\n",
        "f              2            z              1\n",
        "```"
      ]
    },
    {
      "cell_type": "code",
      "execution_count": null,
      "metadata": {
        "id": "d_juwz5FLn8I"
      },
      "outputs": [],
      "source": [
        "#Código:\n",
        "\n"
      ]
    },
    {
      "cell_type": "markdown",
      "metadata": {
        "id": "_wXyOHl7Ln8I"
      },
      "source": [
        "### 26.- Seleccionar los estudiantes 0 y 4o\n",
        "\n",
        "```python\n",
        "       grade  height was_late     top_crush   ...\n",
        "Tomas     45      34      NaN         Angel\n",
        "Haden     90      38      NaN  Edgar A. Poe\n",
        "```"
      ]
    },
    {
      "cell_type": "code",
      "execution_count": null,
      "metadata": {
        "id": "cpi9c3ybLn8I"
      },
      "outputs": [],
      "source": [
        "#Código:\n",
        "\n"
      ]
    },
    {
      "cell_type": "markdown",
      "metadata": {
        "id": "qUd1WuLBLn8J"
      },
      "source": [
        "### 27.- Seleccionar a Haden, Angel y Micaela en ese orden\n",
        "\n",
        "```python\n",
        "          grade  height was_late     top_crush\n",
        "Haden        90      38      NaN  Edgar A. Poe\n",
        "Angel        56      35      NaN         Haden\n",
        "Michaela     89      37      NaN         Tomas\n",
        "```"
      ]
    },
    {
      "cell_type": "code",
      "execution_count": null,
      "metadata": {
        "id": "cbw4UtcALn8J"
      },
      "outputs": [],
      "source": [
        "#Código:\n",
        "\n"
      ]
    },
    {
      "cell_type": "markdown",
      "metadata": {
        "id": "zS6Oi-roLn8J"
      },
      "source": [
        "## Índice mixto"
      ]
    },
    {
      "cell_type": "markdown",
      "metadata": {
        "id": "SR0ubuNPLn8J"
      },
      "source": [
        "Entonces, ¿qué hacemos si queremos obtener las filas por posición, y obtener las columnas por etiqueta?  Es decir, si tenemos un uso para la **indexación mixta**."
      ]
    },
    {
      "cell_type": "markdown",
      "metadata": {
        "id": "IYvrOQZYLn8J"
      },
      "source": [
        "```python\n",
        "# Mixto con iloc: no funciona.\n",
        ">>> df.iloc[2:4, ['some_integers', 'some_booleans']]\n",
        "\n",
        "---------------------------------------------------------------------------\n",
        "IndexError                                Traceback (most recent call last)\n",
        "<ipython-input-337-dcc694afee25> in <module>\n",
        "      1 # Mixto con iloc: no funciona.\n",
        "----> 2 df.iloc[2:4, ['some_integers', 'some_booleans']]\n",
        "```"
      ]
    },
    {
      "cell_type": "markdown",
      "metadata": {
        "id": "2kOUUij6Ln8J"
      },
      "source": [
        "Hacer una indexación mixta en los pandas modernos es más explícito, menos mágico.  Es necesario utilizar los atributos `df.index` y `df.columns` para convertir explícitamente las posiciones en etiquetas."
      ]
    },
    {
      "cell_type": "markdown",
      "metadata": {
        "id": "inDiN43iLn8J"
      },
      "source": [
        "#### Filas por posición, Columnas por nombre"
      ]
    },
    {
      "cell_type": "code",
      "execution_count": null,
      "metadata": {
        "id": "r9RzqOI0Ln8J"
      },
      "outputs": [],
      "source": [
        "df.index[2:4]"
      ]
    },
    {
      "cell_type": "code",
      "execution_count": null,
      "metadata": {
        "id": "JQZ8zHmcLn8J"
      },
      "outputs": [],
      "source": [
        "df.loc[df.index[2:4], ['some_integers', 'some_booleans']]"
      ]
    },
    {
      "cell_type": "markdown",
      "metadata": {
        "id": "sM8ukooHLn8J"
      },
      "source": [
        "#### Filas por nombre, Columnas por posición"
      ]
    },
    {
      "cell_type": "code",
      "execution_count": null,
      "metadata": {
        "id": "b8xrgTUELn8J"
      },
      "outputs": [],
      "source": [
        "df.columns[[0, 2]]"
      ]
    },
    {
      "cell_type": "code",
      "execution_count": null,
      "metadata": {
        "scrolled": true,
        "id": "tz21vyy-Ln8J"
      },
      "outputs": [],
      "source": [
        "df.loc[['c', 'd'], df.columns[[0, 2]]]"
      ]
    },
    {
      "cell_type": "markdown",
      "metadata": {
        "id": "5z0G8iEkLn8K"
      },
      "source": [
        "### 28.- Utilizar el índice mixto para obtener la fila 0, 2a y 4a row de top_crush y pickup_time\n",
        "\n",
        "```python\n",
        "          top_crush  pickup_time\n",
        "Tomas         Angel          4.0\n",
        "Stacy      Michaela          2.0\n",
        "Haden  Edgar A. Poe          NaN\n",
        "```"
      ]
    },
    {
      "cell_type": "code",
      "execution_count": null,
      "metadata": {
        "id": "2Hr-hlUVLn8K"
      },
      "outputs": [],
      "source": [
        "#Código:\n",
        "\n"
      ]
    },
    {
      "cell_type": "markdown",
      "metadata": {
        "id": "F2IXwc4NLn8K"
      },
      "source": [
        "### 29.- Utilizar el índice mixto para obtener el siguiente dataframe, utilizando posición en columns y nombre en filas\n",
        "\n",
        "```python\n",
        "       grade  was_late  above_75_percent  grade\n",
        "Stacy     78      True              True     78\n",
        "Haden     90     False              True     90\n",
        "```"
      ]
    },
    {
      "cell_type": "code",
      "execution_count": null,
      "metadata": {
        "id": "beTaGnuSLn8K"
      },
      "outputs": [],
      "source": [
        "#Código:\n",
        "\n"
      ]
    },
    {
      "cell_type": "markdown",
      "metadata": {
        "id": "g05v1loQLn8K"
      },
      "source": [
        "## Transformaciones"
      ]
    },
    {
      "cell_type": "markdown",
      "metadata": {
        "id": "bnNWtPRVLn8K"
      },
      "source": [
        "Las operaciones aritméticas se aplican a las `Series` elemento a elemento. (como las matrices)"
      ]
    },
    {
      "cell_type": "code",
      "execution_count": null,
      "metadata": {
        "id": "g5REfpPNLn8K"
      },
      "outputs": [],
      "source": [
        "# Ejemplo\n",
        "golf_df[\"TempHumid\"] = golf_df['Temperature'] + golf_df['Humidity']"
      ]
    },
    {
      "cell_type": "code",
      "execution_count": null,
      "metadata": {
        "id": "eE-TmI1gLn8K"
      },
      "outputs": [],
      "source": [
        "golf_df.head()"
      ]
    },
    {
      "cell_type": "code",
      "execution_count": null,
      "metadata": {
        "id": "Vcmh58cOLn8K"
      },
      "outputs": [],
      "source": [
        "# Calcular el índice de calor\n",
        "\n",
        "#    https://en.wikipedia.org/wiki/Heat_index\n",
        "temp = golf_df['Temperature']\n",
        "humid = golf_df['Humidity']\n",
        "golf_df['HeatIndex'] = (-42.37 + 2.05*temp + 10.14*humid\n",
        "                        - 0.225*temp*humid\n",
        "                        - 6.84e-3*temp**2\n",
        "                        - 5.482e-2*humid**2\n",
        "                        + 1.23e-3*temp**2*humid\n",
        "                        + 8.53e-4*temp*humid**2\n",
        "                        - 1.99e-6*temp**2*humid**2\n",
        ")\n",
        "golf_df[['Temperature', 'Humidity', 'HeatIndex']].head()"
      ]
    },
    {
      "cell_type": "markdown",
      "metadata": {
        "id": "igvV6E_zLn8K"
      },
      "source": [
        "### 30.- Crear una columna 'smarty_pants' que devuelva 'Verdadero' si el grade de un estudiante es mayor a 2.2 veces su estatura\n",
        "\n",
        "```python\n",
        ">>> print(students[['grade','height', 'smarty_pants']])\n",
        "          grade  height  smarty_pants\n",
        "Tomas        45      34         False\n",
        "Angel        56      35         False\n",
        "Stacy        78      36         False\n",
        "Michaela     89      37          True\n",
        "Haden        90      38          True\n",
        "```"
      ]
    },
    {
      "cell_type": "code",
      "execution_count": null,
      "metadata": {
        "id": "TuNXvzcvLn8L"
      },
      "outputs": [],
      "source": [
        "#Código:\n",
        "\n"
      ]
    },
    {
      "cell_type": "markdown",
      "metadata": {
        "id": "ec10mzVOLn8L"
      },
      "source": [
        "### 31.- Crear una columna 'percent fixed acidity' que calcule la cantidad de acidez total que se encuentra en wine_quality_white.\n",
        "\n",
        "```python\n",
        ">>> print(wine_quality_white[['fixed acidity', 'volatile acidity', 'citric acid', 'percent fixed acidity']])\n",
        "      fixed acidity  volatile acidity  citric acid  percent fixed acidity\n",
        "0               7.0              0.27         0.36               0.917431\n",
        "1               6.3              0.30         0.34               0.907781\n",
        "2               8.1              0.28         0.40               0.922551\n",
        "3               7.2              0.23         0.32               0.929032\n",
        "4               7.2              0.23         0.32               0.929032\n",
        "...             ...               ...          ...                    ...\n",
        "4893            6.2              0.21         0.29               0.925373\n",
        "4894            6.6              0.32         0.36               0.906593\n",
        "4895            6.5              0.24         0.19               0.937951\n",
        "4896            5.5              0.29         0.30               0.903120\n",
        "4897            6.0              0.21         0.38               0.910470\n",
        "```"
      ]
    },
    {
      "cell_type": "code",
      "execution_count": null,
      "metadata": {
        "id": "yZGDOCIeLn8L"
      },
      "outputs": [],
      "source": [
        "#Código:\n",
        "\n"
      ]
    },
    {
      "cell_type": "markdown",
      "metadata": {
        "id": "ftL_8btPLn8L"
      },
      "source": [
        "## Apply"
      ]
    },
    {
      "cell_type": "markdown",
      "metadata": {
        "id": "8ZNvB_k6Ln8L"
      },
      "source": [
        "Es posible crear una nueva Serie al aplicar una función a una Serie existente\n",
        "\n",
        "Ejemplo: Extraer el día del mes en la columna 'date'"
      ]
    },
    {
      "cell_type": "code",
      "execution_count": null,
      "metadata": {
        "id": "aJ0D3WKmLn8M"
      },
      "outputs": [],
      "source": [
        "golf_df"
      ]
    },
    {
      "cell_type": "code",
      "execution_count": null,
      "metadata": {
        "id": "skSiOF6eLn8M"
      },
      "outputs": [],
      "source": [
        "golf_df['Date'].apply(lambda x: x.split('/')[1])"
      ]
    },
    {
      "cell_type": "markdown",
      "metadata": {
        "id": "MJ1e9HnULn8M"
      },
      "source": [
        "Apply toma cada elemento de la serie 'date' y le *aplica* la función. Las salidas se ordenan en un array de la misma forma e índice.\n",
        "\n",
        "Así que podemos guardarlo así"
      ]
    },
    {
      "cell_type": "code",
      "execution_count": null,
      "metadata": {
        "id": "f323N4KcLn8M"
      },
      "outputs": [],
      "source": [
        "golf_df['day'] = golf_df['Date'].apply(lambda x: x.split('/')[1])\n",
        "golf_df"
      ]
    },
    {
      "cell_type": "markdown",
      "metadata": {
        "id": "Fi0xPeGSLn8M"
      },
      "source": [
        "lambda es sólo una forma de hacer una función. También podemos aplicar una función previamente definida."
      ]
    },
    {
      "cell_type": "code",
      "execution_count": null,
      "metadata": {
        "id": "Dq-RGCIjLn8M"
      },
      "outputs": [],
      "source": [
        "def get_day(x):\n",
        "    return x.split('/')[1]\n",
        "\n",
        "golf_df['Date'].apply(get_day)"
      ]
    },
    {
      "cell_type": "markdown",
      "metadata": {
        "id": "JvmhO1VALn8M"
      },
      "source": [
        "Es posible aplicar una función a cada fila del DataFrame especificando la columna y su eje=1"
      ]
    },
    {
      "cell_type": "code",
      "execution_count": null,
      "metadata": {
        "id": "BL-Je1PvLn8M"
      },
      "outputs": [],
      "source": [
        "golf_df.apply(lambda x: x['Temperature'] + x['Humidity'], axis=1)"
      ]
    },
    {
      "cell_type": "markdown",
      "metadata": {
        "id": "lZKtL3rvLn8M"
      },
      "source": [
        "En general, `.apply` es útil para mapear funciones complejas en sus datos."
      ]
    },
    {
      "cell_type": "markdown",
      "metadata": {
        "id": "b0zKM0OnLn8M"
      },
      "source": [
        "### 32.- Crear una columna 'report_card' que muestre 'FAILURE' si el 'grade' de un estudiante es menor a 60, y que muestre su calificación si es mayor a 60\n",
        "\n",
        "```python\n",
        ">>> print(students[['grade','height', 'report_card']])\n",
        "          grade  height report_card\n",
        "Tomas        45      34     FAILURE\n",
        "Angel        56      35     FAILURE\n",
        "Stacy        78      36          78\n",
        "Michaela     89      37          89\n",
        "Haden        90      38          90\n",
        "```"
      ]
    },
    {
      "cell_type": "code",
      "execution_count": null,
      "metadata": {
        "id": "oYqDX4_vLn8N"
      },
      "outputs": [],
      "source": [
        "#Código:\n",
        "\n"
      ]
    },
    {
      "cell_type": "markdown",
      "metadata": {
        "id": "Ua10WrA5Ln8N"
      },
      "source": [
        "### 33.- Crear una columna 'even_height' que muestre 'Even' si su estatura es un numero par, y que muestre 'odd' si su estatura es un número impar.\n",
        "\n",
        "```python\n",
        ">>> print(students[['grade','height', 'even_height']])\n",
        "          grade  height even_height\n",
        "Tomas        45      34        Even\n",
        "Angel        56      35         Odd\n",
        "Stacy        78      36        Even\n",
        "Michaela     89      37         Odd\n",
        "Haden        90      38        Even\n",
        "```"
      ]
    },
    {
      "cell_type": "code",
      "execution_count": null,
      "metadata": {
        "id": "KKR4xLX1Ln8N"
      },
      "outputs": [],
      "source": [
        "#Código:\n",
        "\n"
      ]
    },
    {
      "cell_type": "markdown",
      "metadata": {
        "id": "uIwlmQnlLn8N"
      },
      "source": [
        "## Agregaciones"
      ]
    },
    {
      "cell_type": "markdown",
      "metadata": {
        "id": "pVlN6Fz5Ln8N"
      },
      "source": [
        "Existen MUCHOS métodos disponibles para nosotros dentro de cada dataframe. Algunos de ellos son agregaciones, al igual que en numpy."
      ]
    },
    {
      "cell_type": "code",
      "execution_count": null,
      "metadata": {
        "id": "jKRkmmbgLn8N"
      },
      "outputs": [],
      "source": [
        "golf_df.count() #Cuenta items que no son None"
      ]
    },
    {
      "cell_type": "code",
      "execution_count": null,
      "metadata": {
        "id": "D9kxOZgNLn8N"
      },
      "outputs": [],
      "source": [
        "golf_df.count(axis=1)"
      ]
    },
    {
      "cell_type": "code",
      "execution_count": null,
      "metadata": {
        "id": "ltENEvnhLn8N"
      },
      "outputs": [],
      "source": [
        "golf_df.mean()"
      ]
    },
    {
      "cell_type": "code",
      "execution_count": null,
      "metadata": {
        "id": "OBZ7UhOPLn8N"
      },
      "outputs": [],
      "source": [
        "golf_df.sum()"
      ]
    },
    {
      "cell_type": "code",
      "execution_count": null,
      "metadata": {
        "id": "DZQcU0vILn8N"
      },
      "outputs": [],
      "source": [
        "golf_df.aggregate(min)"
      ]
    },
    {
      "cell_type": "markdown",
      "metadata": {
        "id": "VBFsMVPTLn8O"
      },
      "source": [
        "¿Qué pasa si queremos calcular la temperatura mínima en días nublados, lluviosos o soleados?\n",
        "\n",
        "¡Usamos una sentencia groupby! Como en sql."
      ]
    },
    {
      "cell_type": "code",
      "execution_count": null,
      "metadata": {
        "id": "RvCXhdcALn8O"
      },
      "outputs": [],
      "source": [
        "golf_df.groupby('Outlook').aggregate(min)"
      ]
    },
    {
      "cell_type": "markdown",
      "metadata": {
        "id": "vp8eYEidLn8O"
      },
      "source": [
        "Esto toma el mínimo de cada __Outlook__ de *cada* otra columna. ¡Y ahora __Outlook__ es el índice!\n",
        "\n",
        "Veamos lo que nos interesa, la temperatura."
      ]
    },
    {
      "cell_type": "code",
      "execution_count": null,
      "metadata": {
        "id": "xSn75uYHLn8O"
      },
      "outputs": [],
      "source": [
        "golf_df.groupby('Outlook').aggregate(min)[['Temperature']]"
      ]
    },
    {
      "cell_type": "markdown",
      "metadata": {
        "id": "NvO7Yi9KLn8O"
      },
      "source": [
        "### 34.- Calcular los datos promedio de clima para cada Outlook.\n",
        "\n",
        "```python\n",
        "          Temperature  Humidity  Windy  TempHumid  HeatIndex\n",
        "Outlook                                                     \n",
        "overcast         75.0      77.0    0.5      152.0  79.571853\n",
        "rain             69.8      81.2    0.4      151.0  70.129762\n",
        "sunny            76.2      82.0    0.4      158.2  79.469540\n",
        "```"
      ]
    },
    {
      "cell_type": "code",
      "execution_count": null,
      "metadata": {
        "id": "2kE5LTO7Ln8O"
      },
      "outputs": [],
      "source": [
        "#Código:\n",
        "\n"
      ]
    },
    {
      "cell_type": "markdown",
      "metadata": {
        "id": "WHp2hsWTLn8O"
      },
      "source": [
        "### 35.- Calcular la temperatura Máxima en días windy y non-windy\n",
        "\n",
        "```python\n",
        "Windy\n",
        "False    85\n",
        "True     80\n",
        "```"
      ]
    },
    {
      "cell_type": "code",
      "execution_count": null,
      "metadata": {
        "id": "fUQPZBS2Ln8O"
      },
      "outputs": [],
      "source": [
        "#Código:\n",
        "\n"
      ]
    },
    {
      "cell_type": "markdown",
      "metadata": {
        "id": "ZmHEcJwSLn8O"
      },
      "source": [
        "Documentación de ayuda para groupby: http://pandas.pydata.org/pandas-docs/stable/groupby.html\n",
        "\n"
      ]
    },
    {
      "cell_type": "markdown",
      "metadata": {
        "id": "ht67G6GcLn8O"
      },
      "source": [
        "## Summaries"
      ]
    },
    {
      "cell_type": "markdown",
      "metadata": {
        "id": "clJ-zVTYLn8O"
      },
      "source": [
        "`info` funciona para revisar los tipos de datos por columna y revisar al mismo tiempo si existen NaN's"
      ]
    },
    {
      "cell_type": "code",
      "execution_count": null,
      "metadata": {
        "id": "_y1ZsU3xLn8P"
      },
      "outputs": [],
      "source": [
        "golf_df.info()"
      ]
    },
    {
      "cell_type": "markdown",
      "metadata": {
        "id": "s6nd9ew8Ln8P"
      },
      "source": [
        "`describe` brinda un análisis descriptivo básico"
      ]
    },
    {
      "cell_type": "code",
      "execution_count": null,
      "metadata": {
        "id": "y6WztJhuLn8P"
      },
      "outputs": [],
      "source": [
        "golf_df.describe()"
      ]
    },
    {
      "cell_type": "markdown",
      "metadata": {
        "id": "aVs41TrhLn8P"
      },
      "source": [
        "### 36.- Qué columna de wine_quality_white tiene la mayor desviación estándar?"
      ]
    },
    {
      "cell_type": "code",
      "execution_count": null,
      "metadata": {
        "id": "Hb-JHKCjLn8P"
      },
      "outputs": [],
      "source": [
        "#Código:\n",
        "\n"
      ]
    },
    {
      "cell_type": "markdown",
      "metadata": {
        "id": "QNo67qGVLn8P"
      },
      "source": [
        "### 37.- Qué columnas son enteros en wine_quality_white?\n"
      ]
    },
    {
      "cell_type": "code",
      "execution_count": null,
      "metadata": {
        "id": "_5UqtWMVLn8P"
      },
      "outputs": [],
      "source": [
        "#Código:\n",
        "\n"
      ]
    },
    {
      "cell_type": "markdown",
      "metadata": {
        "id": "QTxWPaSoLn8P"
      },
      "source": [
        "### 38.- Qué columna tiene el percentil 75 más bajo?"
      ]
    },
    {
      "cell_type": "code",
      "execution_count": null,
      "metadata": {
        "id": "pRaQMqmFLn8R"
      },
      "outputs": [],
      "source": [
        "#Código:\n",
        "\n"
      ]
    },
    {
      "cell_type": "markdown",
      "metadata": {
        "id": "Qx3QjO8GLn8S"
      },
      "source": [
        "## Crosstab"
      ]
    },
    {
      "cell_type": "markdown",
      "metadata": {
        "id": "X_czg_o0Ln8S"
      },
      "source": [
        "`crosstab` devuelve un conteo de frecuencia entre dos columnas"
      ]
    },
    {
      "cell_type": "code",
      "execution_count": null,
      "metadata": {
        "id": "y6lp491BLn8S"
      },
      "outputs": [],
      "source": [
        "pd.crosstab(golf_df['Outlook'], golf_df['Result'])"
      ]
    },
    {
      "cell_type": "markdown",
      "metadata": {
        "id": "ZGPyOVhiLn8S"
      },
      "source": [
        "## DateTimes"
      ]
    },
    {
      "cell_type": "markdown",
      "metadata": {
        "id": "2VhYV5vTLn8S"
      },
      "source": [
        "Para convertir cadenas de texto a una columna de tipo fecha se utiliza la función `to_datetime`"
      ]
    },
    {
      "cell_type": "code",
      "execution_count": null,
      "metadata": {
        "id": "hYCM_3IsLn8S"
      },
      "outputs": [],
      "source": [
        "golf_df['DateTime'] = pd.to_datetime(golf_df['Date'])\n",
        "golf_df['DateTime']"
      ]
    },
    {
      "cell_type": "markdown",
      "metadata": {
        "id": "MX5u92kHLn8S"
      },
      "source": [
        "`day` vs `dayofweek`"
      ]
    },
    {
      "cell_type": "code",
      "execution_count": null,
      "metadata": {
        "id": "a6YmxWOALn8S"
      },
      "outputs": [],
      "source": [
        "golf_df['DateTime'].dt.day"
      ]
    },
    {
      "cell_type": "code",
      "execution_count": null,
      "metadata": {
        "id": "rYP13DPtLn8S"
      },
      "outputs": [],
      "source": [
        "golf_df['DateTime'].dt.dayofweek"
      ]
    },
    {
      "cell_type": "markdown",
      "metadata": {
        "id": "Yd-cDQZELn8T"
      },
      "source": [
        "Month"
      ]
    },
    {
      "cell_type": "code",
      "execution_count": null,
      "metadata": {
        "id": "NheU-KRALn8T"
      },
      "outputs": [],
      "source": [
        "golf_df['DateTime'].dt.month"
      ]
    },
    {
      "cell_type": "markdown",
      "metadata": {
        "id": "ttphtxyWLn8T"
      },
      "source": [
        "Operaciones"
      ]
    },
    {
      "cell_type": "code",
      "execution_count": null,
      "metadata": {
        "id": "PoU6CvjKLn8T"
      },
      "outputs": [],
      "source": [
        "golf_df['DateTime'][0] - golf_df['DateTime'][5]"
      ]
    },
    {
      "cell_type": "code",
      "execution_count": null,
      "metadata": {
        "id": "BMuwD7jxLn8T"
      },
      "outputs": [],
      "source": [
        "golf_df['DateTime'] - golf_df['DateTime']"
      ]
    },
    {
      "cell_type": "markdown",
      "metadata": {
        "id": "pDQ76Mx4Ln8T"
      },
      "source": [
        "### 39.- Calcular el último día de la semana con y sin juego\n",
        "\n",
        "```python\n",
        "Result\n",
        "Don't Play    6\n",
        "Play          6\n",
        "Name: dayofweek, dtype: int64\n",
        "```"
      ]
    },
    {
      "cell_type": "code",
      "execution_count": null,
      "metadata": {
        "id": "K7mZkaRKLn8T"
      },
      "outputs": [],
      "source": [
        "#Código:\n",
        "\n"
      ]
    },
    {
      "cell_type": "markdown",
      "metadata": {
        "id": "OFP49UOwLn8T"
      },
      "source": [
        "## Cambio de índice"
      ]
    },
    {
      "cell_type": "markdown",
      "metadata": {
        "id": "kqojaI1_Ln8T"
      },
      "source": [
        "Para configurar una columna existente como índice"
      ]
    },
    {
      "cell_type": "code",
      "execution_count": null,
      "metadata": {
        "id": "w7xQeQOKLn8T"
      },
      "outputs": [],
      "source": [
        "date_df = golf_df.set_index('DateTime')\n",
        "date_df"
      ]
    },
    {
      "cell_type": "code",
      "execution_count": null,
      "metadata": {
        "id": "TVIYYsXuLn8T"
      },
      "outputs": [],
      "source": [
        "date_df.index"
      ]
    },
    {
      "cell_type": "markdown",
      "metadata": {
        "id": "nQc8fk32Ln8U"
      },
      "source": [
        "Si el índice es de tipo datetime se puede utilizar `resample` para hacer agregaciones o cortes"
      ]
    },
    {
      "cell_type": "code",
      "execution_count": null,
      "metadata": {
        "id": "mCYLh45CLn8U"
      },
      "outputs": [],
      "source": [
        "# W de weekly.\n",
        "date_df.resample('W').mean()"
      ]
    },
    {
      "cell_type": "markdown",
      "metadata": {
        "id": "iQcY23gkLn8U"
      },
      "source": [
        "## Escribir Datos"
      ]
    },
    {
      "cell_type": "markdown",
      "metadata": {
        "id": "Nb9RiL6YLn8U"
      },
      "source": [
        "En un archivo csv.\n",
        "\n",
        "```python\n",
        ">>> golf_df.to_csv('new_playgolf.csv', index=False)\n",
        "\n",
        ">>> !cat new_playgolf.csv\n",
        "\n",
        "Date,Outlook,Temperature,Humidity,Windy,Result,TempHumid,HeatIndex,day,DateTime\n",
        "7/1/14,sunny,85,85,False,Don't Play,170,98.0046312500001,1,2014-07-01\n",
        "7/2/14,sunny,80,90,True,Don't Play,170,84.47439999999996,2,2014-07-02\n",
        "7/3/14,overcast,83,78,False,Play,161,89.66991075999985,3,2014-07-03\n",
        "7/4/14,rain,70,96,False,Play,166,62.84702400000019,4,2014-07-04\n",
        "7/5/14,rain,68,80,False,Play,148,69.08977600000006,5,2014-07-05\n",
        "7/6/14,rain,65,70,True,Don't Play,135,73.66802499999999,6,2014-07-06\n",
        "7/7/14,overcast,64,65,True,Play,129,75.9871160000001,7,2014-07-07\n",
        "7/8/14,sunny,72,95,False,Don't Play,167,66.2473960000001,8,2014-07-08\n",
        "7/9/14,sunny,69,70,False,Play,139,72.84364900000003,9,2014-07-09\n",
        "7/10/14,rain,75,80,False,Play,155,74.55700000000012,10,2014-07-10\n",
        "7/11/14,sunny,75,70,True,Play,145,75.777625,11,2014-07-11\n",
        "7/12/14,overcast,72,90,True,Play,162,68.10694399999996,12,2014-07-12\n",
        "7/13/14,overcast,81,75,False,Play,156,84.52344124999973,13,2014-07-13\n",
        "7/14/14,rain,71,80,True,Don't Play,151,70.48698400000002,14,2014-07-14\n",
        "```"
      ]
    },
    {
      "cell_type": "markdown",
      "metadata": {
        "id": "AxhggjErLn8U"
      },
      "source": [
        "## Análisis Exploratorio de los Datos"
      ]
    },
    {
      "cell_type": "markdown",
      "metadata": {
        "id": "2GaILH4MLn8U"
      },
      "source": [
        "### 40.- Efectuar un Análisis Exploratorio (EDA)\n",
        "\n",
        "Abrir el archivo chess_games.csv y responder las siguientes preguntas en cuadros de código separados:\n",
        "\n",
        "1. ¿Cuántas filas de datos tiene?\n",
        "2. ¿Qué representa cada fila?\n",
        "3. ¿Quién ganó más, los blancos o los negros?\n",
        "4. ¿Cuántas jugadas por partida hay en promedio?\n",
        "5. ¿Cuál fue la \"primera jugada\" más probable?\n",
        "6. ¿Cuántas partidas terminan en jaque mate? (la alternativa es la rendición o el tiempo muerto)\n",
        "7. ¿Qué porcentaje de partidas es?\n",
        "8. ¿Cuánto duró la partida media?\n",
        "9. ¿Cuánto duró la partida media que ganaron las blancas?\n",
        "10. ¿Cuánto duró la partida media que fue un empate?\n",
        "11. ¿Qué es un código de incremento?\n",
        "12. Haz tres preguntas propias *por escrito*. Luego contéstalas. (escribimos nuestras preguntas porque si vuelves más tarde olvidarás qué pregunta estabas respondiendo)"
      ]
    },
    {
      "cell_type": "code",
      "execution_count": null,
      "metadata": {
        "id": "FB6j4HyJLn8U"
      },
      "outputs": [],
      "source": []
    },
    {
      "cell_type": "code",
      "execution_count": null,
      "metadata": {
        "id": "9D5c96A0Ln8U"
      },
      "outputs": [],
      "source": []
    },
    {
      "cell_type": "code",
      "execution_count": null,
      "metadata": {
        "id": "BUYheynOLn8U"
      },
      "outputs": [],
      "source": []
    },
    {
      "cell_type": "code",
      "execution_count": null,
      "metadata": {
        "id": "m5bR4bDfLn8U"
      },
      "outputs": [],
      "source": []
    },
    {
      "cell_type": "markdown",
      "metadata": {
        "id": "HEY_ljLxLn8U"
      },
      "source": [
        "### 41.- Efectuar un análisis exploratorio\n",
        "\n",
        "Abrir el archivo exo.csv, https://exoplanetarchive.ipac.caltech.edu/docs/API_kepcandidate_columns.html y contestar las siguientes preguntas escribiendo headers, divisiones de celdas e identaciones necesarias\n",
        "\n",
        "1. ¿cuántas filas de datos tiene?\n",
        "2. ¿Qué representa cada fila?\n",
        "3. ¿Cuántos planetas están confirmados?\n",
        "4. ¿Cuál es la temperatura máxima de los planetas?\n",
        "5. ¿Cuál es la temperatura máxima de las estrellas?\n",
        "6. ¿Cuál es la distancia entre el planeta y la estrella?\n",
        "7. ¿Cuántos planetas hay en cada sistema?\n",
        "8. ¿Cuánto varía la temperatura de los planetas?\n",
        "9. ¿Cuánto varían las temperaturas de las estrellas?\n",
        "10. ¿Cuántos NaN hay en cada categoría?\n",
        "11. Haz tres preguntas propias *por escrito*. Luego contéstalas. (escribimos nuestras preguntas porque si vuelves más tarde olvidarás qué pregunta estabas respondiendo)"
      ]
    },
    {
      "cell_type": "code",
      "execution_count": null,
      "metadata": {
        "id": "AnIY7iuILn8V"
      },
      "outputs": [],
      "source": []
    },
    {
      "cell_type": "code",
      "execution_count": null,
      "metadata": {
        "id": "6KwKbKMBLn8V"
      },
      "outputs": [],
      "source": []
    },
    {
      "cell_type": "code",
      "execution_count": null,
      "metadata": {
        "id": "Xizp9qDWLn8V"
      },
      "outputs": [],
      "source": []
    },
    {
      "cell_type": "code",
      "execution_count": null,
      "metadata": {
        "id": "LRtjAZK4Ln8V"
      },
      "outputs": [],
      "source": []
    },
    {
      "cell_type": "markdown",
      "metadata": {
        "id": "myVTPqLvLn8V"
      },
      "source": [
        "## Unión de DataFrames\n",
        "\n",
        "Es posible unir DataFrames como se haría en SQL."
      ]
    },
    {
      "cell_type": "markdown",
      "metadata": {
        "id": "wNX0KjmILn8V"
      },
      "source": [
        "Ejemplo"
      ]
    },
    {
      "cell_type": "code",
      "execution_count": null,
      "metadata": {
        "id": "8QayfbDZLn8V"
      },
      "outputs": [],
      "source": [
        "mood_df = pd.DataFrame([['overcast', 'sad'], ['rainy', 'sad'], ['sunny', 'happy']],\n",
        "                       columns=['Weather', 'Mood'])\n",
        "\n",
        "mood_df"
      ]
    },
    {
      "cell_type": "code",
      "execution_count": null,
      "metadata": {
        "id": "Miq4zFnKLn8V"
      },
      "outputs": [],
      "source": [
        "golf_df.merge(mood_df, how='inner', left_on='Outlook', right_on='Weather')"
      ]
    },
    {
      "cell_type": "markdown",
      "metadata": {
        "id": "F8fCwJP6Ln8V"
      },
      "source": [
        "## Concatenar\n",
        "\n",
        "Este método es equivalente a una unión de SQL"
      ]
    },
    {
      "cell_type": "code",
      "execution_count": null,
      "metadata": {
        "id": "_6gxVigrLn8V"
      },
      "outputs": [],
      "source": [
        "df1 = pd.DataFrame(\n",
        "    {'Col3': range(5), 'Col2': range(5), 'Col1': range(5)},\n",
        "    index=range(0, 5))\n",
        "df2 = pd.DataFrame(\n",
        "    {'Col1': range(5), 'Col2': range(5), 'Col4': range(5)},\n",
        "    index=range(3, 8))"
      ]
    },
    {
      "cell_type": "code",
      "execution_count": null,
      "metadata": {
        "id": "Rz0CJQ5xLn8V"
      },
      "outputs": [],
      "source": [
        "df1"
      ]
    },
    {
      "cell_type": "code",
      "execution_count": null,
      "metadata": {
        "id": "Ro7jyNs4Ln8V"
      },
      "outputs": [],
      "source": [
        "df2"
      ]
    },
    {
      "cell_type": "markdown",
      "metadata": {
        "id": "QJdtgyWkLn8V"
      },
      "source": [
        "#### Vertical\n",
        "`sort` controla el orden de las columnas"
      ]
    },
    {
      "cell_type": "code",
      "execution_count": null,
      "metadata": {
        "id": "2Clh2MhZLn8W"
      },
      "outputs": [],
      "source": [
        "pd.concat([df1, df2], axis=0, join='outer', sort=True)"
      ]
    },
    {
      "cell_type": "markdown",
      "metadata": {
        "id": "luB6c4X-Ln8W"
      },
      "source": [
        "`inner` limita las columnas de ambas entradas"
      ]
    },
    {
      "cell_type": "code",
      "execution_count": null,
      "metadata": {
        "id": "_fMVv0uGLn8W"
      },
      "outputs": [],
      "source": [
        "pd.concat([df1, df2], axis=0, join='inner', sort=True)"
      ]
    },
    {
      "cell_type": "markdown",
      "metadata": {
        "id": "wQBFH1r2Ln8W"
      },
      "source": [
        "#### Horizontal"
      ]
    },
    {
      "cell_type": "code",
      "execution_count": null,
      "metadata": {
        "id": "zv92EV8CLn8W"
      },
      "outputs": [],
      "source": [
        "pd.concat([df1, df2], axis=1)"
      ]
    },
    {
      "cell_type": "markdown",
      "metadata": {
        "id": "udpaKTVTLn8W"
      },
      "source": [
        "**Extra:** Por qué algunos números son flotantes y otros no?"
      ]
    },
    {
      "cell_type": "markdown",
      "metadata": {
        "id": "iAGLYLR6Ln8W"
      },
      "source": [
        "Documentación: https://pandas.pydata.org/pandas-docs/stable/merging.html"
      ]
    },
    {
      "cell_type": "code",
      "execution_count": null,
      "metadata": {
        "id": "Hy9ZvXUTLn8W"
      },
      "outputs": [],
      "source": []
    }
  ],
  "metadata": {
    "anaconda-cloud": {},
    "kernelspec": {
      "display_name": "Python 3 (ipykernel)",
      "language": "python",
      "name": "python3"
    },
    "language_info": {
      "codemirror_mode": {
        "name": "ipython",
        "version": 3
      },
      "file_extension": ".py",
      "mimetype": "text/x-python",
      "name": "python",
      "nbconvert_exporter": "python",
      "pygments_lexer": "ipython3",
      "version": "3.9.12"
    },
    "toc": {
      "base_numbering": 1,
      "nav_menu": {},
      "number_sections": true,
      "sideBar": true,
      "skip_h1_title": false,
      "title_cell": "Table of Contents",
      "title_sidebar": "Contents",
      "toc_cell": false,
      "toc_position": {
        "height": "calc(100% - 180px)",
        "left": "10px",
        "top": "150px",
        "width": "256px"
      },
      "toc_section_display": true,
      "toc_window_display": true
    },
    "colab": {
      "provenance": []
    }
  },
  "nbformat": 4,
  "nbformat_minor": 0
}