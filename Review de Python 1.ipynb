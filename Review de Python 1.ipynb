{
  "nbformat": 4,
  "nbformat_minor": 0,
  "metadata": {
    "colab": {
      "provenance": [],
      "authorship_tag": "ABX9TyNahtF6zLYDGb7G4eYPf9ML"
    },
    "kernelspec": {
      "name": "python3",
      "display_name": "Python 3"
    },
    "language_info": {
      "name": "python"
    }
  },
  "cells": [
    {
      "cell_type": "code",
      "source": [
        "#1. Escribe una función que imprima la cadena \"Hola mundo“\n",
        "\n",
        "a=\"Hola Mundo\"\n",
        "print(a)"
      ],
      "metadata": {
        "colab": {
          "base_uri": "https://localhost:8080/"
        },
        "id": "tDdMtEXfLiKw",
        "outputId": "c9603964-070c-4abf-8078-09e7d6a7de1d"
      },
      "execution_count": 12,
      "outputs": [
        {
          "output_type": "stream",
          "name": "stdout",
          "text": [
            "Hola Mundo\n"
          ]
        }
      ]
    },
    {
      "cell_type": "code",
      "execution_count": 13,
      "metadata": {
        "colab": {
          "base_uri": "https://localhost:8080/"
        },
        "id": "TjwCDC30pq49",
        "outputId": "8fb0497d-b2d1-4193-c53c-7279dc7b8727"
      },
      "outputs": [
        {
          "output_type": "stream",
          "name": "stdout",
          "text": [
            "Ingrese los colores delimitados por un guion (Ejemplo: marrón-rojo)verde-amarillo\n",
            "El valor de la resistencia con colores verde-amarillo es: 54\n"
          ]
        }
      ],
      "source": [
        "#2. Si desea construir algo usando una Raspberry Pi, probablemente use resistencias. Para este ejercicio, necesitas saber dos cosas sobre ellos:\n",
        "\n",
        "#Cada resistencia tiene un valor específico, los resistores son pequeños, tan pequeños que si imprimieras el valor de resistencia en ellos, sería difícil de leer.\n",
        "#Para solucionar este problema, los fabricantes imprimen bandas codificadas por colores en las resistencias para indicar sus valores. Cada banda tiene una posición y un valor numérico.\n",
        "#Las primeras 2 bandas de una resistencia tienen un esquema de codificación simple: cada color se asigna a un solo número. Por ejemplo, si imprimieran una banda marrón (valor 1) seguida de una banda verde (valor 5), se traduciría en el número 15.\n",
        "#En este ejercicio vas a crear un programa útil para que no tengas que recordar los valores de las bandas. El programa tomará los nombres de los colores como entrada y generará un número de dos dígitos, ¡incluso si la entrada es de más de dos colores!\n",
        "#Los colores de la banda se codifican de la siguiente manera:\n",
        "#Negro: 0,\n",
        "#Marrón: 1,\n",
        "#Rojo: 2,\n",
        "#Naranja: 3,\n",
        "#Amarillo: 4,\n",
        "#Verde: 5,\n",
        "#Azul: 6,\n",
        "#Púrpura: 7,\n",
        "#Gris: 8,\n",
        "#Blanco: 9\n",
        "#El argumento de la función debe aceptar una cadena de colores separados por un guión.\n",
        "def valor_resistencia(colores):\n",
        "    codificacion = {\n",
        "        'negro': 0,\n",
        "        'marrón': 1,\n",
        "        'rojo': 2,\n",
        "        'naranja': 3,\n",
        "        'amarillo': 4,\n",
        "        'verde': 5,\n",
        "        'azul': 6,\n",
        "        'púrpura': 7,\n",
        "        'gris': 8,\n",
        "        'blanco': 9\n",
        "    }\n",
        "\n",
        "    colores = colores.lower().split('-')\n",
        "\n",
        "    if len(colores) < 2:\n",
        "        return \"Debe proporcionar al menos dos colores separados por guiones.\"\n",
        "\n",
        "    valor = codificacion.get(colores[0], None)\n",
        "    if valor is None:\n",
        "        return f\"El color {colores[0]} no es válido.\"\n",
        "\n",
        "    valor = valor * 10 + codificacion.get(colores[1], None)\n",
        "    if valor is None:\n",
        "        return f\"El color {colores[1]} no es válido.\"\n",
        "\n",
        "    return valor\n",
        "\n",
        "# Ejemplo de uso:\n",
        "colores = str(input(\"Ingrese los colores delimitados por un guion (Ejemplo: marrón-rojo)\"))\n",
        "resultado = valor_resistencia(colores)\n",
        "if isinstance(resultado, int):\n",
        "    print(f\"El valor de la resistencia con colores {colores} es: {resultado}\")\n",
        "else:\n",
        "    print(resultado)\n",
        "\n",
        "\n"
      ]
    },
    {
      "cell_type": "code",
      "source": [
        "#3. Crear una función que la entrada sea un año, y este de como salida si es un año bisiesto o no.\n",
        "\n",
        "#Un año bisiesto en el calendario gregoriano es aquel que es divisible por 4, excepto los años que son divisibles por 100, a menos que el año también sea divisible por 400.\n",
        "def es_bisiesto(anio):\n",
        "    if (anio % 4 == 0 and anio % 100 != 0) or (anio % 400 == 0):\n",
        "        return True\n",
        "    else:\n",
        "        return False\n",
        "\n",
        "# Ejemplo de uso:\n",
        "anio = int(input(\"Ingrese el año: \"))\n",
        "if es_bisiesto(anio):\n",
        "    print(f\"{anio} si es un año bisiesto.\")\n",
        "else:\n",
        "    print(f\"{anio} no es un año bisiesto.\")\n"
      ],
      "metadata": {
        "colab": {
          "base_uri": "https://localhost:8080/"
        },
        "id": "tFXIt3iCMzzx",
        "outputId": "c63fbc00-723f-4bd9-8866-017fd4c6cb0d"
      },
      "execution_count": 18,
      "outputs": [
        {
          "output_type": "stream",
          "name": "stdout",
          "text": [
            "Ingrese el año: 2000\n",
            "2000 si es un año bisiesto.\n"
          ]
        }
      ]
    },
    {
      "cell_type": "code",
      "source": [
        "#4. Dado un nombre de planeta y una edad en segundos, calcula qué edad tendría alguien en:\n",
        "\n",
        "#Mercurio: período orbital 0,2408467 años terrestres.\n",
        "#Tierra: período orbital 1,0 años terrestres, 365,25 días terrestres o 31557600 segundos\n",
        "#Marte: período orbital 1,8808158 años terrestres\n",
        "#Júpiter: período orbital 11,862615 años terrestres\n",
        "#Saturno: período orbital 29,447498 años terrestres\n",
        "#Urano: período orbital 84,016846 años terrestres\n",
        "#Neptuno: período orbital 164,79132 años terrestres\n",
        "#Por ejemplo, si el usuario ingresa que tiene 1,000,000,000 segundos de edad y está en la Tierra, entonces el programa debería imprimir que el usuario tiene 31.69 años, es decir, desde que nació la Tierra ha orbitado el sol 31.69 veces.\n",
        "# Definir los períodos orbitales en segundos para cada planeta\n",
        "periodo_orbital = {\n",
        "    \"Mercurio\": 0.2408467 * 31557600,  # Años terrestres a segundos\n",
        "    \"Tierra\": 31557600,  # Un año en segundos\n",
        "    \"Marte\": 1.8808158 * 31557600,\n",
        "    \"Júpiter\": 11.862615 * 31557600,\n",
        "    \"Saturno\": 29.447498 * 31557600,\n",
        "    \"Urano\": 84.016846 * 31557600,\n",
        "    \"Neptuno\": 164.79132 * 31557600\n",
        "}\n",
        "\n",
        "# Solicitar al usuario el nombre del planeta y la edad en segundos\n",
        "nombre_planeta = input(\"Ingresa el nombre del planeta: \")\n",
        "edad_segundos = float(input(\"Ingresa tu edad en segundos: \"))\n",
        "\n",
        "# Calcular la edad en el planeta dado\n",
        "if nombre_planeta in periodo_orbital:\n",
        "    edad_planeta = edad_segundos / periodo_orbital[nombre_planeta]\n",
        "    print(f\"Tu edad en {nombre_planeta} es de aproximadamente {edad_planeta:.2f} años.\")\n",
        "else:\n",
        "    print(\"El planeta ingresado no es válido.\")\n"
      ],
      "metadata": {
        "colab": {
          "base_uri": "https://localhost:8080/"
        },
        "id": "1Qm3pjxSN6RK",
        "outputId": "8dafb029-64d6-44fa-e5ea-1a4d5956f525"
      },
      "execution_count": 1,
      "outputs": [
        {
          "output_type": "stream",
          "name": "stdout",
          "text": [
            "Ingresa el nombre del planeta: Marte\n",
            "Ingresa tu edad en segundos: 300000\n",
            "Tu edad en Marte es de aproximadamente 0.01 años.\n"
          ]
        }
      ]
    }
  ]
}